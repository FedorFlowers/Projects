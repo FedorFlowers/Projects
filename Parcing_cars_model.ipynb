{
 "cells": [
  {
   "cell_type": "markdown",
   "id": "d93bbeaa-f78c-40ed-9374-23dd45b3aab0",
   "metadata": {},
   "source": [
    "# Задание\n",
    "\n",
    "### Предсказания стоимости машин по VIN коду.\n",
    "\n",
    "##### План:\n",
    "1. Загрузка данных\n",
    "2. Парсинг\n",
    "4. Исследовательский анализ данных\n",
    "5. Обучение модели\n",
    "6. Результаты"
   ]
  },
  {
   "cell_type": "code",
   "execution_count": 1,
   "id": "9de24403-b026-4de5-9830-308dee739e48",
   "metadata": {},
   "outputs": [],
   "source": [
    "# import os\n",
    "# os.environ['REQUESTS_CA_BUNDLE'] = r'C:\\Users\\Navi\\anaconda3\\ssl\\cacert-2024-03-11.pem'"
   ]
  },
  {
   "cell_type": "code",
   "execution_count": 2,
   "id": "e2d5e6b2-7771-4898-beb6-cc3fbf27982f",
   "metadata": {},
   "outputs": [],
   "source": [
    "# pip install --trusted-host pypi.org --trusted-host pypi.python.org --trusted-host=files.pythonhosted.org optuna (установка напрямую без pem)"
   ]
  },
  {
   "cell_type": "markdown",
   "id": "4437b557-b3e0-4d37-b792-78bbb815e5b7",
   "metadata": {},
   "source": [
    "### 1. Загрузка данных"
   ]
  },
  {
   "cell_type": "code",
   "execution_count": 3,
   "id": "704ec829-1e51-4086-9afb-61e3d754df42",
   "metadata": {},
   "outputs": [],
   "source": [
    "import pandas as pd\n",
    "import numpy as np\n",
    "import matplotlib.pyplot as plt\n",
    "import seaborn as sns \n",
    "import re\n",
    "from catboost import CatBoostRegressor\n",
    "from sklearn.model_selection import train_test_split\n",
    "from sklearn.metrics import mean_squared_error\n",
    "from optuna.integration import OptunaSearchCV\n",
    "import optuna\n",
    "from sklearn.neighbors import LocalOutlierFactor\n",
    "from sklearn.metrics import r2_score\n",
    "from sklearn.dummy import DummyRegressor"
   ]
  },
  {
   "cell_type": "code",
   "execution_count": 4,
   "id": "aae12412-8ff7-4a16-9dad-908d322b74b2",
   "metadata": {},
   "outputs": [],
   "source": [
    "import pandas as pd\n",
    "import re"
   ]
  },
  {
   "cell_type": "code",
   "execution_count": 5,
   "id": "4174f2df-9558-43d1-9ef3-4422d084813e",
   "metadata": {},
   "outputs": [],
   "source": [
    "with open ('vin_ford_train.txt', 'r') as f:\n",
    "    content = f.read()"
   ]
  },
  {
   "cell_type": "code",
   "execution_count": 6,
   "id": "6b9aad05-a1df-4769-bfa2-df70d18d554a",
   "metadata": {},
   "outputs": [
    {
     "data": {
      "text/plain": [
       "'[2FMDK3JC4BBA41556:12500]РјРѕР№[3FA6P0H75ER208976:14500]РґСЏРґСЏ [3FAHP08Z17R268380:1300][1FMCU0GX3DUC59421:15200]СЃР°РјС‹С… [1FAHP2E89DG119368:11600] РІРµСЂРЅС‹С…[1FM5K8D82DGA16143:26400][1FTFW1CFXCFC23663:14000][2FMDK3JC6CBA90002:19500][1FTFW1CT8DKD06233:24400][1FMZU64W13UC28949:2900][2FMDK3JC9DBB30736:23500][1FMCU9D76CKC49193:12700][1FMCU9EG2CKA90624:20700][1FMCU0JX7EUA28208:21300][2FMGK5D85EBD31213:26700][2FMDK4KC6EBA72011:25100]РїСЂР°РІРёР» [1FTFX1EF2EKE24350:26700][1ZVBP8EM0D5237253:11600]'"
      ]
     },
     "execution_count": 6,
     "metadata": {},
     "output_type": "execute_result"
    }
   ],
   "source": [
    "content[:500]"
   ]
  },
  {
   "cell_type": "code",
   "execution_count": 7,
   "id": "b0dbd8fc-a543-4b0b-a741-814e644f6322",
   "metadata": {},
   "outputs": [],
   "source": [
    "# data = pd.read_csv('vin_ford_train.txt', delimiter='\\t')   "
   ]
  },
  {
   "cell_type": "markdown",
   "id": "7615caa6-88df-4742-a833-8a1a4921216b",
   "metadata": {},
   "source": [
    "### 2. Парсинг"
   ]
  },
  {
   "cell_type": "markdown",
   "id": "b2828f34-1082-419d-aee0-9fa28d426641",
   "metadata": {},
   "source": [
    "##### VIN американских авто\n",
    "\n",
    "- `1-3` производитель \n",
    "- `4` ремни безопасности для пассажиров, тормоза и грузоподьемность у трака\n",
    "- `5-7` - модель\n",
    "- `8` - двигатель\n",
    "- `9` - контрольный знак \n",
    "- `10` - год\n",
    "- `11` - завод производитель\n",
    "- `12-17` - серийный номер"
   ]
  },
  {
   "cell_type": "markdown",
   "id": "ef38f2a6-c24c-44cb-8465-c51a812b8c2a",
   "metadata": {},
   "source": [
    "##### Разрешенные символы\n",
    "Код создает список допустимых символов для VIN, и включает в него все буквы от A до Z, исключая I, O и Q, а также все цифры от 0 до 9, кроме 1. Затем он объединяет все символы в строку. Давайте проверим, что получится:"
   ]
  },
  {
   "cell_type": "code",
   "execution_count": 8,
   "id": "987f477e-2908-4b4c-883a-584071a3ee34",
   "metadata": {},
   "outputs": [
    {
     "data": {
      "text/plain": [
       "'ABCDEFGHJKLMNPRSTUVWXYZ1234567890'"
      ]
     },
     "execution_count": 8,
     "metadata": {},
     "output_type": "execute_result"
    }
   ],
   "source": [
    "ALLOWED_CHARS = [chr(x) for x in range(ord('A'), ord('Z')+1) if chr(x) not in ('I', 'O', 'Q')]\n",
    "ALLOWED_NUMS = [str(x) for x in range(1,10)] + ['0']\n",
    "\n",
    "allowed = ''.join(ALLOWED_CHARS+ALLOWED_NUMS)\n",
    "allowed"
   ]
  },
  {
   "cell_type": "markdown",
   "id": "cdd22be3-bb25-4821-8073-1c941bd6980f",
   "metadata": {},
   "source": [
    "- `WMI_RE`: Это регулярное выражение сопоставляет первые три символа VIN-кода (World Manufacturer Identifier, WMI). {3} указывает на то, что должны быть точно три символа. allowed представляет допустимые символы для WMI.\n",
    "- `RESTRAINT_RE`: Это регулярное выражение сопоставляет следующий символ VIN-кода, который обозначает ограничения (например, тип кузова).\n",
    "- `MODEL_RE`: Это регулярное выражение сопоставляет следующие три символа VIN-кода, которые представляют модель автомобиля.\n",
    "- `ENGINE_RE`: Это регулярное выражение сопоставляет следующий символ VIN-кода, который представляет тип двигателя.\n",
    "- `CHECK_RE`: Это регулярное выражение сопоставляет следующий символ VIN-кода, который является проверочным.\n",
    "- `YEAR_RE`: Это регулярное выражение сопоставляет следующий символ VIN-кода, который представляет год выпуска автомобиля. В данном случае используется замена символов \"U\" и \"Z\", так как они обычно используются в качестве года в VIN-кодах.\n",
    "- `PLANT_RE`: Это регулярное выражение сопоставляет следующий символ VIN-кода, который представляет завод-изготовитель автомобиля.\n",
    "- `VIS_RE`: Это регулярное выражение сопоставляет следующие шесть символов VIN-кода, которые представляют серийный номер транспортного средства.\n",
    "- `vin_re`: Это основное регулярное выражение, которое объединяет все предыдущие регулярные выражения для полного сопоставления VIN-кода.\n",
    "- `price_re`: Это регулярное выражение для сопоставления цены, представленной в виде последовательности цифр.\n",
    "- `data_re`: Это регулярное выражение, которое сопоставляет полную строку данных, содержащую VIN-код и цену."
   ]
  },
  {
   "cell_type": "code",
   "execution_count": 9,
   "id": "843b46e6-68a1-4184-8072-3d4be9439210",
   "metadata": {},
   "outputs": [],
   "source": [
    "WMI_RE = f'(?P<wmi>[{allowed}]{{3}})'                                  # 1-3 в коде VIN\n",
    "RESTRAINT_RE = f'(?P<restraint>[{allowed}])'                           # 4 \n",
    "MODEL_RE = f'(?P<model>[{allowed}]{{3}})'                              # 5-7 \n",
    "ENGINE_RE = f'(?P<engine>[{allowed}])'                                 # 8 \n",
    "CHECK_RE = f'(?P<check>[{allowed}])'                                   # 9 \n",
    "YEAR_RE = f'(?P<year>[{allowed.replace(\"U\", \"\").replace(\"Z\", \"\")}])'   # 10 \n",
    "PLANT_RE = f'(?P<plant>[{allowed}])'                                   # 11 \n",
    "VIS_RE = f'(?P<vis>[{allowed}]{{3}}\\\\d{{3}})'                          # 12-17 \n",
    "\n",
    "vin_re = f'{WMI_RE}{RESTRAINT_RE}{MODEL_RE}{ENGINE_RE}{CHECK_RE}{YEAR_RE}{PLANT_RE}{VIS_RE}'\n",
    "price_re = r'(?P<price>\\d+)'\n",
    "\n",
    "data_re = re.compile(f'\\\\[{vin_re}:{price_re}\\\\]')"
   ]
  },
  {
   "cell_type": "markdown",
   "id": "eacd6f22-1622-48ca-a786-f6906a57d813",
   "metadata": {},
   "source": [
    "Цикл ниже делает итерации по всем совпадениям регулярного выражения `data_re` в содержимом файла. `data_re.finditer(content)` возвращает итератор, который проходит по всем совпадениям в строке content. Далее, для каждого совпадения создается словарь с помощью метода `groupdict()`, который возвращает словарь с именованными группами совпадения. Этот словарь добавляется в список values."
   ]
  },
  {
   "cell_type": "code",
   "execution_count": 10,
   "id": "fab90f95-31ab-4c36-a594-4997e15eeb77",
   "metadata": {},
   "outputs": [
    {
     "data": {
      "text/plain": [
       "[{'wmi': '2FM',\n",
       "  'restraint': 'D',\n",
       "  'model': 'K3J',\n",
       "  'engine': 'C',\n",
       "  'check': '4',\n",
       "  'year': 'B',\n",
       "  'plant': 'B',\n",
       "  'vis': 'A41556',\n",
       "  'price': '12500'}]"
      ]
     },
     "execution_count": 10,
     "metadata": {},
     "output_type": "execute_result"
    }
   ],
   "source": [
    "values = []\n",
    "for obj in data_re.finditer(content):\n",
    "    values.append(obj.groupdict())\n",
    "\n",
    "values[:1]"
   ]
  },
  {
   "cell_type": "code",
   "execution_count": 11,
   "id": "65341749-491f-442f-acfd-b37bfe7f625c",
   "metadata": {},
   "outputs": [],
   "source": [
    "df = pd.DataFrame(values)"
   ]
  },
  {
   "cell_type": "code",
   "execution_count": 12,
   "id": "c86651e8-452e-4e93-a729-16e4fc35b6fc",
   "metadata": {},
   "outputs": [
    {
     "name": "stdout",
     "output_type": "stream",
     "text": [
      "<class 'pandas.core.frame.DataFrame'>\n",
      "RangeIndex: 71884 entries, 0 to 71883\n",
      "Data columns (total 9 columns):\n",
      " #   Column     Non-Null Count  Dtype \n",
      "---  ------     --------------  ----- \n",
      " 0   wmi        71884 non-null  object\n",
      " 1   restraint  71884 non-null  object\n",
      " 2   model      71884 non-null  object\n",
      " 3   engine     71884 non-null  object\n",
      " 4   check      71884 non-null  object\n",
      " 5   year       71884 non-null  object\n",
      " 6   plant      71884 non-null  object\n",
      " 7   vis        71884 non-null  object\n",
      " 8   price      71884 non-null  object\n",
      "dtypes: object(9)\n",
      "memory usage: 4.9+ MB\n"
     ]
    }
   ],
   "source": [
    "df.info()"
   ]
  },
  {
   "cell_type": "code",
   "execution_count": 13,
   "id": "fe9cac5a-450d-41c3-89d6-12d5f7d331b4",
   "metadata": {},
   "outputs": [
    {
     "data": {
      "text/html": [
       "<div>\n",
       "<style scoped>\n",
       "    .dataframe tbody tr th:only-of-type {\n",
       "        vertical-align: middle;\n",
       "    }\n",
       "\n",
       "    .dataframe tbody tr th {\n",
       "        vertical-align: top;\n",
       "    }\n",
       "\n",
       "    .dataframe thead th {\n",
       "        text-align: right;\n",
       "    }\n",
       "</style>\n",
       "<table border=\"1\" class=\"dataframe\">\n",
       "  <thead>\n",
       "    <tr style=\"text-align: right;\">\n",
       "      <th></th>\n",
       "      <th>wmi</th>\n",
       "      <th>restraint</th>\n",
       "      <th>model</th>\n",
       "      <th>engine</th>\n",
       "      <th>check</th>\n",
       "      <th>year</th>\n",
       "      <th>plant</th>\n",
       "      <th>vis</th>\n",
       "      <th>price</th>\n",
       "    </tr>\n",
       "  </thead>\n",
       "  <tbody>\n",
       "    <tr>\n",
       "      <th>0</th>\n",
       "      <td>2FM</td>\n",
       "      <td>D</td>\n",
       "      <td>K3J</td>\n",
       "      <td>C</td>\n",
       "      <td>4</td>\n",
       "      <td>B</td>\n",
       "      <td>B</td>\n",
       "      <td>A41556</td>\n",
       "      <td>12500</td>\n",
       "    </tr>\n",
       "    <tr>\n",
       "      <th>1</th>\n",
       "      <td>3FA</td>\n",
       "      <td>6</td>\n",
       "      <td>P0H</td>\n",
       "      <td>7</td>\n",
       "      <td>5</td>\n",
       "      <td>E</td>\n",
       "      <td>R</td>\n",
       "      <td>208976</td>\n",
       "      <td>14500</td>\n",
       "    </tr>\n",
       "    <tr>\n",
       "      <th>2</th>\n",
       "      <td>3FA</td>\n",
       "      <td>H</td>\n",
       "      <td>P08</td>\n",
       "      <td>Z</td>\n",
       "      <td>1</td>\n",
       "      <td>7</td>\n",
       "      <td>R</td>\n",
       "      <td>268380</td>\n",
       "      <td>1300</td>\n",
       "    </tr>\n",
       "    <tr>\n",
       "      <th>3</th>\n",
       "      <td>1FM</td>\n",
       "      <td>C</td>\n",
       "      <td>U0G</td>\n",
       "      <td>X</td>\n",
       "      <td>3</td>\n",
       "      <td>D</td>\n",
       "      <td>U</td>\n",
       "      <td>C59421</td>\n",
       "      <td>15200</td>\n",
       "    </tr>\n",
       "    <tr>\n",
       "      <th>4</th>\n",
       "      <td>1FA</td>\n",
       "      <td>H</td>\n",
       "      <td>P2E</td>\n",
       "      <td>8</td>\n",
       "      <td>9</td>\n",
       "      <td>D</td>\n",
       "      <td>G</td>\n",
       "      <td>119368</td>\n",
       "      <td>11600</td>\n",
       "    </tr>\n",
       "  </tbody>\n",
       "</table>\n",
       "</div>"
      ],
      "text/plain": [
       "   wmi restraint model engine check year plant     vis  price\n",
       "0  2FM         D   K3J      C     4    B     B  A41556  12500\n",
       "1  3FA         6   P0H      7     5    E     R  208976  14500\n",
       "2  3FA         H   P08      Z     1    7     R  268380   1300\n",
       "3  1FM         C   U0G      X     3    D     U  C59421  15200\n",
       "4  1FA         H   P2E      8     9    D     G  119368  11600"
      ]
     },
     "execution_count": 13,
     "metadata": {},
     "output_type": "execute_result"
    }
   ],
   "source": [
    "df.head()"
   ]
  },
  {
   "cell_type": "code",
   "execution_count": 14,
   "id": "1ed8824b-91e3-4ea2-a61a-40ad9f8883bf",
   "metadata": {},
   "outputs": [],
   "source": [
    "df['price'] = df['price'].astype(float)"
   ]
  },
  {
   "cell_type": "markdown",
   "id": "4780342c-083e-48f1-b233-f908392bc91c",
   "metadata": {},
   "source": [
    "### 4. Исследовательский анализ данных\n",
    " "
   ]
  },
  {
   "cell_type": "code",
   "execution_count": 30,
   "id": "f9765227-ae9e-41e3-8cd3-cf5f41e1e6c2",
   "metadata": {},
   "outputs": [
    {
     "data": {
      "text/plain": [
       "wmi          0\n",
       "restraint    0\n",
       "model        0\n",
       "engine       0\n",
       "check        0\n",
       "year         0\n",
       "plant        0\n",
       "vis          0\n",
       "price        0\n",
       "dtype: int64"
      ]
     },
     "execution_count": 30,
     "metadata": {},
     "output_type": "execute_result"
    }
   ],
   "source": [
    "df.isna().sum()"
   ]
  },
  {
   "cell_type": "code",
   "execution_count": 15,
   "id": "53212aa1-4f7a-4c48-9cff-d89d1327574d",
   "metadata": {},
   "outputs": [
    {
     "name": "stderr",
     "output_type": "stream",
     "text": [
      "C:\\Users\\Navi\\anaconda3\\Lib\\site-packages\\seaborn\\_oldcore.py:1119: FutureWarning: use_inf_as_na option is deprecated and will be removed in a future version. Convert inf values to NaN before operating instead.\n",
      "  with pd.option_context('mode.use_inf_as_na', True):\n"
     ]
    },
    {
     "data": {
      "image/png": "[encoded data removed]",
      "text/plain": [
       "<Figure size 1200x600 with 1 Axes>"
      ]
     },
     "metadata": {},
     "output_type": "display_data"
    }
   ],
   "source": [
    "plt.figure(figsize=(12,6))\n",
    "sns.histplot(data=df)\n",
    "plt.show()"
   ]
  },
  {
   "cell_type": "markdown",
   "id": "2c04033b-7314-430e-a46e-c60f14150803",
   "metadata": {},
   "source": [
    "Распределение таргета не нормальное"
   ]
  },
  {
   "cell_type": "markdown",
   "id": "e219e395-53ea-41cd-afde-1f5670d4beb5",
   "metadata": {},
   "source": [
    "Убираем выбросы с помщью метода `LocalOutlierFactor()`"
   ]
  },
  {
   "cell_type": "code",
   "execution_count": 16,
   "id": "5c0ccb13-f10b-4dbd-9552-b7afe482e207",
   "metadata": {},
   "outputs": [],
   "source": [
    "lof_model = LocalOutlierFactor()\n",
    "\n",
    "X_train = df[['price']]\n",
    "\n",
    "lof_model.fit(X_train)\n",
    "\n",
    "outliers = lof_model.fit_predict(X_train)\n",
    "\n",
    "df = df[outliers != -1]"
   ]
  },
  {
   "cell_type": "markdown",
   "id": "066dce32-dff8-4a10-9f7f-a9cc5d8e9e9a",
   "metadata": {},
   "source": [
    "### 5. Обучение модели\n"
   ]
  },
  {
   "cell_type": "code",
   "execution_count": 18,
   "id": "78361675-13d0-4fe2-947f-8e76433bed20",
   "metadata": {},
   "outputs": [
    {
     "data": {
      "text/plain": [
       "Index(['wmi', 'restraint', 'model', 'engine', 'check', 'year', 'plant', 'vis',\n",
       "       'price'],\n",
       "      dtype='object')"
      ]
     },
     "execution_count": 18,
     "metadata": {},
     "output_type": "execute_result"
    }
   ],
   "source": [
    "df.columns"
   ]
  },
  {
   "cell_type": "markdown",
   "id": "43e4ac58-4590-4d7c-9238-ffb3e69e24d8",
   "metadata": {},
   "source": [
    "Используем CatBoost для предсказания цены "
   ]
  },
  {
   "cell_type": "code",
   "execution_count": 22,
   "id": "41648070-7718-45fd-ac94-42a93d697ef9",
   "metadata": {},
   "outputs": [
    {
     "name": "stderr",
     "output_type": "stream",
     "text": [
      "C:\\Users\\Navi\\AppData\\Local\\Temp\\ipykernel_21552\\2131168837.py:26: ExperimentalWarning: OptunaSearchCV is experimental (supported from v0.17.0). The interface can change in the future.\n",
      "  optuna_search = OptunaSearchCV(clf,\n",
      "[I 2024-04-21 20:37:19,584] A new study created in memory with name: no-name-5e90f0c6-aba3-4109-92dc-df64a34d4b6e\n",
      "[I 2024-04-21 20:38:38,013] Trial 1 finished with value: -6684.4904235811955 and parameters: {'learning_rate': 0.00026218190991672525, 'iterations': 1156, 'depth': 2, 'min_data_in_leaf': 4, 'subsample': 0.8438546002532827, 'colsample_bylevel': 0.3328432072232785}. Best is trial 1 with value: -6684.4904235811955.\n",
      "[I 2024-04-21 20:38:56,409] Trial 2 finished with value: -2816.465164715411 and parameters: {'learning_rate': 0.23640999028005896, 'iterations': 953, 'depth': 4, 'min_data_in_leaf': 8, 'subsample': 0.7772790807306291, 'colsample_bylevel': 0.1347395106875391}. Best is trial 2 with value: -2816.465164715411.\n",
      "[I 2024-04-21 20:39:13,360] Trial 6 finished with value: -3555.38249653302 and parameters: {'learning_rate': 0.02741608641440909, 'iterations': 939, 'depth': 1, 'min_data_in_leaf': 4, 'subsample': 0.8124441516114168, 'colsample_bylevel': 0.09969410262472075}. Best is trial 2 with value: -2816.465164715411.\n",
      "[I 2024-04-21 20:39:51,032] Trial 7 finished with value: -6569.559408463523 and parameters: {'learning_rate': 0.001287153319002554, 'iterations': 1005, 'depth': 7, 'min_data_in_leaf': 7, 'subsample': 0.8176015539085701, 'colsample_bylevel': 0.05163569862936329}. Best is trial 2 with value: -2816.465164715411.\n",
      "[I 2024-04-21 20:43:04,033] Trial 8 finished with value: -3499.967416590925 and parameters: {'learning_rate': 0.0019252701473827184, 'iterations': 928, 'depth': 5, 'min_data_in_leaf': 9, 'subsample': 0.8027020532406329, 'colsample_bylevel': 0.5931329686481019}. Best is trial 2 with value: -2816.465164715411.\n",
      "[I 2024-04-21 20:44:16,704] Trial 10 finished with value: -5376.428312566606 and parameters: {'learning_rate': 0.0007939570121742663, 'iterations': 919, 'depth': 2, 'min_data_in_leaf': 10, 'subsample': 0.8620593412024455, 'colsample_bylevel': 0.6131240795552909}. Best is trial 2 with value: -2816.465164715411.\n",
      "[I 2024-04-21 20:44:43,684] Trial 4 finished with value: -2788.8163069541383 and parameters: {'learning_rate': 0.028818832559670122, 'iterations': 849, 'depth': 9, 'min_data_in_leaf': 8, 'subsample': 0.7215109564384677, 'colsample_bylevel': 0.2680803305478521}. Best is trial 4 with value: -2788.8163069541383.\n",
      "[I 2024-04-21 20:46:24,027] Trial 5 finished with value: -3506.693603229038 and parameters: {'learning_rate': 0.0015510443400959043, 'iterations': 991, 'depth': 8, 'min_data_in_leaf': 3, 'subsample': 0.8721417162388485, 'colsample_bylevel': 0.8234708927168263}. Best is trial 4 with value: -2788.8163069541383.\n",
      "[I 2024-04-21 20:47:06,715] Trial 3 finished with value: -2826.3147684674127 and parameters: {'learning_rate': 0.230705105681405, 'iterations': 1028, 'depth': 7, 'min_data_in_leaf': 4, 'subsample': 0.8146097533379539, 'colsample_bylevel': 0.8481141040664814}. Best is trial 4 with value: -2788.8163069541383.\n",
      "[I 2024-04-21 20:48:18,127] Trial 0 finished with value: -2790.8857204939545 and parameters: {'learning_rate': 0.020708185061599754, 'iterations': 956, 'depth': 9, 'min_data_in_leaf': 4, 'subsample': 0.8702671864774062, 'colsample_bylevel': 0.8621804572684333}. Best is trial 4 with value: -2788.8163069541383.\n",
      "[I 2024-04-21 20:48:18,692] Trial 9 finished with value: -2826.699563849064 and parameters: {'learning_rate': 0.30089528128145177, 'iterations': 1108, 'depth': 6, 'min_data_in_leaf': 8, 'subsample': 0.8235063802120844, 'colsample_bylevel': 0.9907249316284562}. Best is trial 4 with value: -2788.8163069541383.\n",
      "[I 2024-04-21 20:48:59,792] Trial 11 finished with value: -3241.0140408383936 and parameters: {'learning_rate': 0.002428173026635295, 'iterations': 843, 'depth': 7, 'min_data_in_leaf': 6, 'subsample': 0.824497391266484, 'colsample_bylevel': 0.7371013424809114}. Best is trial 4 with value: -2788.8163069541383.\n",
      "[I 2024-04-21 20:49:42,498] Trial 12 finished with value: -3213.211764919551 and parameters: {'learning_rate': 0.002215601529972575, 'iterations': 960, 'depth': 7, 'min_data_in_leaf': 9, 'subsample': 0.742007616286848, 'colsample_bylevel': 0.950216801030993}. Best is trial 4 with value: -2788.8163069541383.\n"
     ]
    },
    {
     "name": "stdout",
     "output_type": "stream",
     "text": [
      "Best RMSE: 2788.8163069541383\n",
      "Best parameters: {'learning_rate': 0.028818832559670122, 'iterations': 849, 'depth': 9, 'min_data_in_leaf': 8, 'subsample': 0.7215109564384677, 'colsample_bylevel': 0.2680803305478521}\n",
      "RMSE on test set: 2727.167930334189\n"
     ]
    }
   ],
   "source": [
    "features = df[['wmi', 'restraint', 'model', 'engine', 'check', 'year', 'plant', 'vis']]\n",
    "target = df['price']\n",
    "features_train, features_test, target_train, target_test = train_test_split(features, \n",
    "                                                                            target, \n",
    "                                                                            test_size=0.2, \n",
    "                                                                            random_state=42)\n",
    "\n",
    "cat_cols=['wmi', 'restraint', 'model', 'engine', 'check', 'year', 'plant', 'vis']\n",
    "\n",
    "param = {\n",
    "    'learning_rate': optuna.distributions.FloatDistribution(1e-4, 1, log=True),\n",
    "    'iterations': optuna.distributions.IntDistribution(800, 1200),\n",
    "    'depth': optuna.distributions.IntDistribution(1, 10),\n",
    "    'min_data_in_leaf': optuna.distributions.IntDistribution(1, 10),\n",
    "    'subsample': optuna.distributions.FloatDistribution(0.7, 0.9),\n",
    "    'colsample_bylevel': optuna.distributions.FloatDistribution(0.05, 1.0),\n",
    "}\n",
    "\n",
    "clf = CatBoostRegressor(verbose=False)\n",
    "\n",
    "optuna_search = OptunaSearchCV(clf, \n",
    "                               param, \n",
    "                               cv=3,\n",
    "                               n_trials=50, \n",
    "                               scoring='neg_root_mean_squared_error', \n",
    "                               timeout=500,\n",
    "                               verbose=5,\n",
    "                               n_jobs=-1)\n",
    "\n",
    "optuna_search.fit(features_train, \n",
    "                  target_train, \n",
    "                  cat_features=cat_cols)\n",
    "\n",
    "print(\"Best RMSE:\", -optuna_search.best_score_)\n",
    "print(\"Best parameters:\", optuna_search.best_params_)\n",
    "\n",
    "predictions = optuna_search.predict(features_test)\n",
    "\n",
    "rmse = mean_squared_error(target_test, predictions, squared=False)\n",
    "print(\"RMSE on test set:\", rmse)\n"
   ]
  },
  {
   "cell_type": "markdown",
   "id": "7963ae16-7076-48f8-9ceb-c7c5b5473c18",
   "metadata": {},
   "source": [
    "Проверим лучше ли наша модель чем dummy "
   ]
  },
  {
   "cell_type": "code",
   "execution_count": 41,
   "id": "c601aaee-afa9-4585-b279-139fbe96a857",
   "metadata": {},
   "outputs": [
    {
     "name": "stdout",
     "output_type": "stream",
     "text": [
      "RMSE on test (dummy model): 7706.838090265152\n"
     ]
    }
   ],
   "source": [
    "from sklearn.dummy import DummyRegressor\n",
    "\n",
    "dummy_model = DummyRegressor(strategy='mean')  # Используем стратегию среднего значения\n",
    "dummy_model.fit(features_train, target_train)\n",
    "\n",
    "dummy_predictions = dummy_model.predict(features_test)\n",
    "\n",
    "dummy_rmse = mean_squared_error(target_test, dummy_predictions, squared=False)\n",
    "print(\"RMSE on test (dummy model):\", dummy_rmse)"
   ]
  },
  {
   "cell_type": "markdown",
   "id": "2be8adb4-58bb-412a-ace0-783176ca7ca2",
   "metadata": {},
   "source": [
    "Смотрим на R2 для лучшего понимания результатов"
   ]
  },
  {
   "cell_type": "code",
   "execution_count": 43,
   "id": "1ece2b00-a8ca-49c6-b086-77506791aaf3",
   "metadata": {},
   "outputs": [
    {
     "name": "stdout",
     "output_type": "stream",
     "text": [
      "R2 on test: 0.874776699210839\n"
     ]
    }
   ],
   "source": [
    "r2 = r2_score(target_test, predictions)\n",
    "print(\"R2 on test:\", r2)"
   ]
  },
  {
   "cell_type": "markdown",
   "id": "432d7a0b-7566-49fb-b24a-05d4b84577ce",
   "metadata": {},
   "source": [
    "Модель успешно обьясняет 87 процентов данных"
   ]
  },
  {
   "cell_type": "markdown",
   "id": "1eddd5bf-8ef7-4791-8171-908604e6d567",
   "metadata": {},
   "source": [
    "Смотрим на важность признаков (feature_importances)"
   ]
  },
  {
   "cell_type": "code",
   "execution_count": 29,
   "id": "dda4d151-fa8f-4518-a4fa-c1f002272a34",
   "metadata": {},
   "outputs": [
    {
     "name": "stdout",
     "output_type": "stream",
     "text": [
      "Feature Importances:\n",
      "wmi: 8.674799252348544\n",
      "restraint: 15.37508568076815\n",
      "model: 20.629380159145903\n",
      "engine: 16.17436025671187\n",
      "check: 2.589835978208425\n",
      "year: 26.498443090472858\n",
      "plant: 9.905856214267011\n",
      "vis: 0.15223936807722982\n"
     ]
    }
   ],
   "source": [
    "feature_importances = optuna_search.best_estimator_.feature_importances_\n",
    "print(\"Feature Importances:\")\n",
    "for i, feature in enumerate(features.columns):\n",
    "    print(f\"{feature}: {feature_importances[i]}\")"
   ]
  },
  {
   "cell_type": "code",
   "execution_count": 34,
   "id": "3c24b25f-9457-4d06-a3bd-8bf0a6e20609",
   "metadata": {},
   "outputs": [
    {
     "data": {
      "image/png": "[encoded data removed]",
      "text/plain": [
       "<Figure size 1000x600 with 1 Axes>"
      ]
     },
     "metadata": {},
     "output_type": "display_data"
    }
   ],
   "source": [
    "feature_importance = optuna_search.best_estimator_.feature_importances_\n",
    "\n",
    "importance_df = pd.DataFrame({'Feature': cat_cols, \n",
    "                              'Importance': feature_importance})\n",
    "importance_df = importance_df.sort_values(by='Importance')\n",
    "\n",
    "plt.figure(figsize=(10, 6))\n",
    "plt.barh(importance_df['Feature'], \n",
    "         importance_df['Importance'])\n",
    "plt.title('Feature Importances')\n",
    "plt.show()\n"
   ]
  },
  {
   "cell_type": "markdown",
   "id": "118a26b8-3aef-4b33-9e61-cff65f04921b",
   "metadata": {},
   "source": [
    "### 6. Результаты"
   ]
  },
  {
   "cell_type": "markdown",
   "id": "a98b78c4-4474-46f8-83a5-f5c84bd3f62f",
   "metadata": {},
   "source": [
    "- Сделали парсинг данных VIN автомобилей. \n",
    "- Предобработали данные(изменили тип данных/ обработали выбросы)\n",
    "- Обучили модель CatBoost.\n",
    "- Результат модели предсказания на тестовой выборке:\n",
    "     - RMSE: 2727.167930334189\n",
    "     - R2: 0.874776699210839  "
   ]
  }
 ],
 "metadata": {
  "kernelspec": {
   "display_name": "Python 3 (ipykernel)",
   "language": "python",
   "name": "python3"
  },
  "language_info": {
   "codemirror_mode": {
    "name": "ipython",
    "version": 3
   },
   "file_extension": ".py",
   "mimetype": "text/x-python",
   "name": "python",
   "nbconvert_exporter": "python",
   "pygments_lexer": "ipython3",
   "version": "3.11.8"
  }
 },
 "nbformat": 4,
 "nbformat_minor": 5
}
