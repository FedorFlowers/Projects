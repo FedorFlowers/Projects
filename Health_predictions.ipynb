{
  "cells": [
    {
      "cell_type": "markdown",
      "id": "1e8f66a7-b1d1-4c63-a15d-913e1cbefc51",
      "metadata": {
        "id": "1e8f66a7-b1d1-4c63-a15d-913e1cbefc51"
      },
      "source": [
        "### Задача:\n",
        "Cоздать прогностическую модель рисков ухудшения здоровья у беременных.\n",
        "\n",
        "### Описание данных\n",
        "\n",
        "- `Age`: Age in years when a woman is pregnant.\n",
        "- `SystolicBP`: Upper value of Blood Pressure in mmHg, another significant attribute during pregnancy.\n",
        "- `DiastolicBP`: Lower value of Blood Pressure in mmHg, another significant attribute during pregnancy.\n",
        "- `BS`: Blood glucose levels is in terms of a molar concentration, mmol/L.\n",
        "- `HeartRate`: A normal resting heart rate in beats per minute.\n",
        "- `Risk Level`: Predicted Risk Intensity Level during pregnancy considering the previous attribute.\n"
      ]
    },
    {
      "cell_type": "markdown",
      "id": "df04eec7-36c6-496b-bf53-c0a916390f0b",
      "metadata": {
        "id": "df04eec7-36c6-496b-bf53-c0a916390f0b"
      },
      "source": [
        "### План решения задачи:\n",
        "\n",
        "1. Загрузка данных\n",
        "2. Предобработка данных\n",
        "3. Исследовательский анализ данных\n",
        "4. Обучение модели\n",
        "5. Вывод результатов и анализ модели\n"
      ]
    },
    {
      "cell_type": "code",
      "execution_count": null,
      "id": "290f154e-501b-454a-96d3-8d3ef6dd194a",
      "metadata": {
        "id": "290f154e-501b-454a-96d3-8d3ef6dd194a"
      },
      "outputs": [],
      "source": [
        "import pandas as pd\n",
        "import numpy as np\n",
        "import matplotlib.pyplot as plt\n",
        "import seaborn as sns\n",
        "from catboost import CatBoostRegressor\n",
        "from sklearn.model_selection import train_test_split\n",
        "from optuna.integration import OptunaSearchCV\n",
        "import optuna\n",
        "from sklearn.neighbors import LocalOutlierFactor\n",
        "from catboost import CatBoostClassifier\n",
        "from sklearn.metrics import recall_score, f1_score\n",
        "from sklearn.metrics import confusion_matrix\n",
        "from sklearn.metrics import classification_report"
      ]
    },
    {
      "cell_type": "markdown",
      "id": "f5883e23-573e-4d15-ba9c-e212d00caf7a",
      "metadata": {
        "id": "f5883e23-573e-4d15-ba9c-e212d00caf7a"
      },
      "source": [
        "### 1. Загрузка данных"
      ]
    },
    {
      "cell_type": "code",
      "source": [
        "from google.colab import drive\n",
        "drive.mount('/content/drive')"
      ],
      "metadata": {
        "colab": {
          "base_uri": "https://localhost:8080/"
        },
        "id": "nQ2UbnDadgU8",
        "outputId": "466c4e17-c049-490d-9dfb-021230821b87"
      },
      "id": "nQ2UbnDadgU8",
      "execution_count": null,
      "outputs": [
        {
          "output_type": "stream",
          "name": "stdout",
          "text": [
            "Drive already mounted at /content/drive; to attempt to forcibly remount, call drive.mount(\"/content/drive\", force_remount=True).\n"
          ]
        }
      ]
    },
    {
      "cell_type": "code",
      "source": [
        "file_path = '/content/drive/My Drive/Colab Notebooks/Maternal Health Risk Data Set.csv'\n"
      ],
      "metadata": {
        "id": "eNngCVC7dtpb"
      },
      "id": "eNngCVC7dtpb",
      "execution_count": null,
      "outputs": []
    },
    {
      "cell_type": "code",
      "execution_count": null,
      "id": "4d89be3e-d0fe-4ab9-89af-a71576aa7ddf",
      "metadata": {
        "id": "4d89be3e-d0fe-4ab9-89af-a71576aa7ddf"
      },
      "outputs": [],
      "source": [
        "df = pd.read_csv(file_path)"
      ]
    },
    {
      "cell_type": "code",
      "execution_count": null,
      "id": "ada881e6-f825-44dc-8334-05380b49cd8a",
      "metadata": {
        "id": "ada881e6-f825-44dc-8334-05380b49cd8a",
        "outputId": "19e11b4e-c866-491c-86e3-b7ef1a313f79",
        "colab": {
          "base_uri": "https://localhost:8080/",
          "height": 206
        }
      },
      "outputs": [
        {
          "output_type": "execute_result",
          "data": {
            "text/plain": [
              "   Age  SystolicBP  DiastolicBP    BS  BodyTemp  HeartRate  RiskLevel\n",
              "0   25         130           80  15.0      98.0         86  high risk\n",
              "1   35         140           90  13.0      98.0         70  high risk\n",
              "2   29          90           70   8.0     100.0         80  high risk\n",
              "3   30         140           85   7.0      98.0         70  high risk\n",
              "4   35         120           60   6.1      98.0         76   low risk"
            ],
            "text/html": [
              "\n",
              "  <div id=\"df-c03aa5d6-e16f-4f08-a597-62fc2ca41793\" class=\"colab-df-container\">\n",
              "    <div>\n",
              "<style scoped>\n",
              "    .dataframe tbody tr th:only-of-type {\n",
              "        vertical-align: middle;\n",
              "    }\n",
              "\n",
              "    .dataframe tbody tr th {\n",
              "        vertical-align: top;\n",
              "    }\n",
              "\n",
              "    .dataframe thead th {\n",
              "        text-align: right;\n",
              "    }\n",
              "</style>\n",
              "<table border=\"1\" class=\"dataframe\">\n",
              "  <thead>\n",
              "    <tr style=\"text-align: right;\">\n",
              "      <th></th>\n",
              "      <th>Age</th>\n",
              "      <th>SystolicBP</th>\n",
              "      <th>DiastolicBP</th>\n",
              "      <th>BS</th>\n",
              "      <th>BodyTemp</th>\n",
              "      <th>HeartRate</th>\n",
              "      <th>RiskLevel</th>\n",
              "    </tr>\n",
              "  </thead>\n",
              "  <tbody>\n",
              "    <tr>\n",
              "      <th>0</th>\n",
              "      <td>25</td>\n",
              "      <td>130</td>\n",
              "      <td>80</td>\n",
              "      <td>15.0</td>\n",
              "      <td>98.0</td>\n",
              "      <td>86</td>\n",
              "      <td>high risk</td>\n",
              "    </tr>\n",
              "    <tr>\n",
              "      <th>1</th>\n",
              "      <td>35</td>\n",
              "      <td>140</td>\n",
              "      <td>90</td>\n",
              "      <td>13.0</td>\n",
              "      <td>98.0</td>\n",
              "      <td>70</td>\n",
              "      <td>high risk</td>\n",
              "    </tr>\n",
              "    <tr>\n",
              "      <th>2</th>\n",
              "      <td>29</td>\n",
              "      <td>90</td>\n",
              "      <td>70</td>\n",
              "      <td>8.0</td>\n",
              "      <td>100.0</td>\n",
              "      <td>80</td>\n",
              "      <td>high risk</td>\n",
              "    </tr>\n",
              "    <tr>\n",
              "      <th>3</th>\n",
              "      <td>30</td>\n",
              "      <td>140</td>\n",
              "      <td>85</td>\n",
              "      <td>7.0</td>\n",
              "      <td>98.0</td>\n",
              "      <td>70</td>\n",
              "      <td>high risk</td>\n",
              "    </tr>\n",
              "    <tr>\n",
              "      <th>4</th>\n",
              "      <td>35</td>\n",
              "      <td>120</td>\n",
              "      <td>60</td>\n",
              "      <td>6.1</td>\n",
              "      <td>98.0</td>\n",
              "      <td>76</td>\n",
              "      <td>low risk</td>\n",
              "    </tr>\n",
              "  </tbody>\n",
              "</table>\n",
              "</div>\n",
              "    <div class=\"colab-df-buttons\">\n",
              "\n",
              "  <div class=\"colab-df-container\">\n",
              "    <button class=\"colab-df-convert\" onclick=\"convertToInteractive('df-c03aa5d6-e16f-4f08-a597-62fc2ca41793')\"\n",
              "            title=\"Convert this dataframe to an interactive table.\"\n",
              "            style=\"display:none;\">\n",
              "\n",
              "  <svg xmlns=\"http://www.w3.org/2000/svg\" height=\"24px\" viewBox=\"0 -960 960 960\">\n",
              "    <path d=\"M120-120v-720h720v720H120Zm60-500h600v-160H180v160Zm220 220h160v-160H400v160Zm0 220h160v-160H400v160ZM180-400h160v-160H180v160Zm440 0h160v-160H620v160ZM180-180h160v-160H180v160Zm440 0h160v-160H620v160Z\"/>\n",
              "  </svg>\n",
              "    </button>\n",
              "\n",
              "  <style>\n",
              "    .colab-df-container {\n",
              "      display:flex;\n",
              "      gap: 12px;\n",
              "    }\n",
              "\n",
              "    .colab-df-convert {\n",
              "      background-color: #E8F0FE;\n",
              "      border: none;\n",
              "      border-radius: 50%;\n",
              "      cursor: pointer;\n",
              "      display: none;\n",
              "      fill: #1967D2;\n",
              "      height: 32px;\n",
              "      padding: 0 0 0 0;\n",
              "      width: 32px;\n",
              "    }\n",
              "\n",
              "    .colab-df-convert:hover {\n",
              "      background-color: #E2EBFA;\n",
              "      box-shadow: 0px 1px 2px rgba(60, 64, 67, 0.3), 0px 1px 3px 1px rgba(60, 64, 67, 0.15);\n",
              "      fill: #174EA6;\n",
              "    }\n",
              "\n",
              "    .colab-df-buttons div {\n",
              "      margin-bottom: 4px;\n",
              "    }\n",
              "\n",
              "    [theme=dark] .colab-df-convert {\n",
              "      background-color: #3B4455;\n",
              "      fill: #D2E3FC;\n",
              "    }\n",
              "\n",
              "    [theme=dark] .colab-df-convert:hover {\n",
              "      background-color: #434B5C;\n",
              "      box-shadow: 0px 1px 3px 1px rgba(0, 0, 0, 0.15);\n",
              "      filter: drop-shadow(0px 1px 2px rgba(0, 0, 0, 0.3));\n",
              "      fill: #FFFFFF;\n",
              "    }\n",
              "  </style>\n",
              "\n",
              "    <script>\n",
              "      const buttonEl =\n",
              "        document.querySelector('#df-c03aa5d6-e16f-4f08-a597-62fc2ca41793 button.colab-df-convert');\n",
              "      buttonEl.style.display =\n",
              "        google.colab.kernel.accessAllowed ? 'block' : 'none';\n",
              "\n",
              "      async function convertToInteractive(key) {\n",
              "        const element = document.querySelector('#df-c03aa5d6-e16f-4f08-a597-62fc2ca41793');\n",
              "        const dataTable =\n",
              "          await google.colab.kernel.invokeFunction('convertToInteractive',\n",
              "                                                    [key], {});\n",
              "        if (!dataTable) return;\n",
              "\n",
              "        const docLinkHtml = 'Like what you see? Visit the ' +\n",
              "          '<a target=\"_blank\" href=https://colab.research.google.com/notebooks/data_table.ipynb>data table notebook</a>'\n",
              "          + ' to learn more about interactive tables.';\n",
              "        element.innerHTML = '';\n",
              "        dataTable['output_type'] = 'display_data';\n",
              "        await google.colab.output.renderOutput(dataTable, element);\n",
              "        const docLink = document.createElement('div');\n",
              "        docLink.innerHTML = docLinkHtml;\n",
              "        element.appendChild(docLink);\n",
              "      }\n",
              "    </script>\n",
              "  </div>\n",
              "\n",
              "\n",
              "<div id=\"df-ae6f596b-23e6-4790-968b-512575a869aa\">\n",
              "  <button class=\"colab-df-quickchart\" onclick=\"quickchart('df-ae6f596b-23e6-4790-968b-512575a869aa')\"\n",
              "            title=\"Suggest charts\"\n",
              "            style=\"display:none;\">\n",
              "\n",
              "<svg xmlns=\"http://www.w3.org/2000/svg\" height=\"24px\"viewBox=\"0 0 24 24\"\n",
              "     width=\"24px\">\n",
              "    <g>\n",
              "        <path d=\"M19 3H5c-1.1 0-2 .9-2 2v14c0 1.1.9 2 2 2h14c1.1 0 2-.9 2-2V5c0-1.1-.9-2-2-2zM9 17H7v-7h2v7zm4 0h-2V7h2v10zm4 0h-2v-4h2v4z\"/>\n",
              "    </g>\n",
              "</svg>\n",
              "  </button>\n",
              "\n",
              "<style>\n",
              "  .colab-df-quickchart {\n",
              "      --bg-color: #E8F0FE;\n",
              "      --fill-color: #1967D2;\n",
              "      --hover-bg-color: #E2EBFA;\n",
              "      --hover-fill-color: #174EA6;\n",
              "      --disabled-fill-color: #AAA;\n",
              "      --disabled-bg-color: #DDD;\n",
              "  }\n",
              "\n",
              "  [theme=dark] .colab-df-quickchart {\n",
              "      --bg-color: #3B4455;\n",
              "      --fill-color: #D2E3FC;\n",
              "      --hover-bg-color: #434B5C;\n",
              "      --hover-fill-color: #FFFFFF;\n",
              "      --disabled-bg-color: #3B4455;\n",
              "      --disabled-fill-color: #666;\n",
              "  }\n",
              "\n",
              "  .colab-df-quickchart {\n",
              "    background-color: var(--bg-color);\n",
              "    border: none;\n",
              "    border-radius: 50%;\n",
              "    cursor: pointer;\n",
              "    display: none;\n",
              "    fill: var(--fill-color);\n",
              "    height: 32px;\n",
              "    padding: 0;\n",
              "    width: 32px;\n",
              "  }\n",
              "\n",
              "  .colab-df-quickchart:hover {\n",
              "    background-color: var(--hover-bg-color);\n",
              "    box-shadow: 0 1px 2px rgba(60, 64, 67, 0.3), 0 1px 3px 1px rgba(60, 64, 67, 0.15);\n",
              "    fill: var(--button-hover-fill-color);\n",
              "  }\n",
              "\n",
              "  .colab-df-quickchart-complete:disabled,\n",
              "  .colab-df-quickchart-complete:disabled:hover {\n",
              "    background-color: var(--disabled-bg-color);\n",
              "    fill: var(--disabled-fill-color);\n",
              "    box-shadow: none;\n",
              "  }\n",
              "\n",
              "  .colab-df-spinner {\n",
              "    border: 2px solid var(--fill-color);\n",
              "    border-color: transparent;\n",
              "    border-bottom-color: var(--fill-color);\n",
              "    animation:\n",
              "      spin 1s steps(1) infinite;\n",
              "  }\n",
              "\n",
              "  @keyframes spin {\n",
              "    0% {\n",
              "      border-color: transparent;\n",
              "      border-bottom-color: var(--fill-color);\n",
              "      border-left-color: var(--fill-color);\n",
              "    }\n",
              "    20% {\n",
              "      border-color: transparent;\n",
              "      border-left-color: var(--fill-color);\n",
              "      border-top-color: var(--fill-color);\n",
              "    }\n",
              "    30% {\n",
              "      border-color: transparent;\n",
              "      border-left-color: var(--fill-color);\n",
              "      border-top-color: var(--fill-color);\n",
              "      border-right-color: var(--fill-color);\n",
              "    }\n",
              "    40% {\n",
              "      border-color: transparent;\n",
              "      border-right-color: var(--fill-color);\n",
              "      border-top-color: var(--fill-color);\n",
              "    }\n",
              "    60% {\n",
              "      border-color: transparent;\n",
              "      border-right-color: var(--fill-color);\n",
              "    }\n",
              "    80% {\n",
              "      border-color: transparent;\n",
              "      border-right-color: var(--fill-color);\n",
              "      border-bottom-color: var(--fill-color);\n",
              "    }\n",
              "    90% {\n",
              "      border-color: transparent;\n",
              "      border-bottom-color: var(--fill-color);\n",
              "    }\n",
              "  }\n",
              "</style>\n",
              "\n",
              "  <script>\n",
              "    async function quickchart(key) {\n",
              "      const quickchartButtonEl =\n",
              "        document.querySelector('#' + key + ' button');\n",
              "      quickchartButtonEl.disabled = true;  // To prevent multiple clicks.\n",
              "      quickchartButtonEl.classList.add('colab-df-spinner');\n",
              "      try {\n",
              "        const charts = await google.colab.kernel.invokeFunction(\n",
              "            'suggestCharts', [key], {});\n",
              "      } catch (error) {\n",
              "        console.error('Error during call to suggestCharts:', error);\n",
              "      }\n",
              "      quickchartButtonEl.classList.remove('colab-df-spinner');\n",
              "      quickchartButtonEl.classList.add('colab-df-quickchart-complete');\n",
              "    }\n",
              "    (() => {\n",
              "      let quickchartButtonEl =\n",
              "        document.querySelector('#df-ae6f596b-23e6-4790-968b-512575a869aa button');\n",
              "      quickchartButtonEl.style.display =\n",
              "        google.colab.kernel.accessAllowed ? 'block' : 'none';\n",
              "    })();\n",
              "  </script>\n",
              "</div>\n",
              "    </div>\n",
              "  </div>\n"
            ],
            "application/vnd.google.colaboratory.intrinsic+json": {
              "type": "dataframe",
              "variable_name": "df",
              "summary": "{\n  \"name\": \"df\",\n  \"rows\": 1014,\n  \"fields\": [\n    {\n      \"column\": \"Age\",\n      \"properties\": {\n        \"dtype\": \"number\",\n        \"std\": 13,\n        \"min\": 10,\n        \"max\": 70,\n        \"num_unique_values\": 50,\n        \"samples\": [\n          40,\n          43,\n          13\n        ],\n        \"semantic_type\": \"\",\n        \"description\": \"\"\n      }\n    },\n    {\n      \"column\": \"SystolicBP\",\n      \"properties\": {\n        \"dtype\": \"number\",\n        \"std\": 18,\n        \"min\": 70,\n        \"max\": 160,\n        \"num_unique_values\": 19,\n        \"samples\": [\n          130,\n          110,\n          80\n        ],\n        \"semantic_type\": \"\",\n        \"description\": \"\"\n      }\n    },\n    {\n      \"column\": \"DiastolicBP\",\n      \"properties\": {\n        \"dtype\": \"number\",\n        \"std\": 13,\n        \"min\": 49,\n        \"max\": 100,\n        \"num_unique_values\": 16,\n        \"samples\": [\n          80,\n          90,\n          89\n        ],\n        \"semantic_type\": \"\",\n        \"description\": \"\"\n      }\n    },\n    {\n      \"column\": \"BS\",\n      \"properties\": {\n        \"dtype\": \"number\",\n        \"std\": 3.293531721151281,\n        \"min\": 6.0,\n        \"max\": 19.0,\n        \"num_unique_values\": 29,\n        \"samples\": [\n          6.5,\n          7.7,\n          7.1\n        ],\n        \"semantic_type\": \"\",\n        \"description\": \"\"\n      }\n    },\n    {\n      \"column\": \"BodyTemp\",\n      \"properties\": {\n        \"dtype\": \"number\",\n        \"std\": 1.3713843755995376,\n        \"min\": 98.0,\n        \"max\": 103.0,\n        \"num_unique_values\": 8,\n        \"samples\": [\n          100.0,\n          98.4,\n          98.0\n        ],\n        \"semantic_type\": \"\",\n        \"description\": \"\"\n      }\n    },\n    {\n      \"column\": \"HeartRate\",\n      \"properties\": {\n        \"dtype\": \"number\",\n        \"std\": 8,\n        \"min\": 7,\n        \"max\": 90,\n        \"num_unique_values\": 16,\n        \"samples\": [\n          86,\n          70,\n          77\n        ],\n        \"semantic_type\": \"\",\n        \"description\": \"\"\n      }\n    },\n    {\n      \"column\": \"RiskLevel\",\n      \"properties\": {\n        \"dtype\": \"category\",\n        \"num_unique_values\": 3,\n        \"samples\": [\n          \"high risk\",\n          \"low risk\",\n          \"mid risk\"\n        ],\n        \"semantic_type\": \"\",\n        \"description\": \"\"\n      }\n    }\n  ]\n}"
            }
          },
          "metadata": {},
          "execution_count": 5
        }
      ],
      "source": [
        "df.head()"
      ]
    },
    {
      "cell_type": "code",
      "execution_count": null,
      "id": "cafa83d9-cb2a-4df8-af28-e8b36c0ae55f",
      "metadata": {
        "id": "cafa83d9-cb2a-4df8-af28-e8b36c0ae55f",
        "outputId": "b382e833-94b5-4427-f79c-3b8886ab37a8",
        "colab": {
          "base_uri": "https://localhost:8080/"
        }
      },
      "outputs": [
        {
          "output_type": "stream",
          "name": "stdout",
          "text": [
            "<class 'pandas.core.frame.DataFrame'>\n",
            "RangeIndex: 1014 entries, 0 to 1013\n",
            "Data columns (total 7 columns):\n",
            " #   Column       Non-Null Count  Dtype  \n",
            "---  ------       --------------  -----  \n",
            " 0   Age          1014 non-null   int64  \n",
            " 1   SystolicBP   1014 non-null   int64  \n",
            " 2   DiastolicBP  1014 non-null   int64  \n",
            " 3   BS           1014 non-null   float64\n",
            " 4   BodyTemp     1014 non-null   float64\n",
            " 5   HeartRate    1014 non-null   int64  \n",
            " 6   RiskLevel    1014 non-null   object \n",
            "dtypes: float64(2), int64(4), object(1)\n",
            "memory usage: 55.6+ KB\n"
          ]
        }
      ],
      "source": [
        "df.info()"
      ]
    },
    {
      "cell_type": "markdown",
      "id": "63f46b35-0c58-4117-9079-d4daca714a91",
      "metadata": {
        "id": "63f46b35-0c58-4117-9079-d4daca714a91"
      },
      "source": [
        "### 2. Предобработка данных"
      ]
    },
    {
      "cell_type": "markdown",
      "id": "e98fb320-2f91-43c0-96da-fa9e8b44ca32",
      "metadata": {
        "id": "e98fb320-2f91-43c0-96da-fa9e8b44ca32"
      },
      "source": [
        "Заменяем пробелы в названиях столбцов на нижнее подчёркивание и переводим все символы в нижний регистр для удобства"
      ]
    },
    {
      "cell_type": "code",
      "execution_count": null,
      "id": "dea21bf3-e351-4642-b45b-629075fa9b32",
      "metadata": {
        "id": "dea21bf3-e351-4642-b45b-629075fa9b32"
      },
      "outputs": [],
      "source": [
        "def convert_to_snake_case(column_name):\n",
        "    '''\n",
        "    Функция проходит по каждому символу в строке column_name с помощью цикла for.\n",
        "    Для каждого символа проверяется, является ли он заглавной буквой с помощью метода isupper().\n",
        "    Если символ является заглавной буквой и если он не является первым символом строки (проверка i > 0) и\n",
        "    предыдущий символ не является заглавной буквой (проверка column_name[i - 1].islower()), то перед текущим символом добавляется символ подчеркивания.\n",
        "    Это делается для того, чтобы обработать случай, когда в названии столбца встречаются сокращения или аббревиатуры, например, \"BP\" в \"SystolicBP\".\n",
        "    Затем текущая буква преобразуется к нижнему регистру с помощью метода lower() и добавляется к строке snake_case_name.\n",
        "    Если символ не является заглавной буквой, он просто добавляется к строке snake_case_name.\n",
        "    В конце функция возвращает строку snake_case_name, представляющую собой название столбца в формате snake_case.\n",
        "    '''\n",
        "    snake_case_name = ''\n",
        "    for i, char in enumerate(column_name):\n",
        "        if char.isupper():\n",
        "            if i > 0 and column_name[i - 1].islower():\n",
        "                snake_case_name += '_'\n",
        "            snake_case_name += char.lower()\n",
        "        else:\n",
        "            snake_case_name += char\n",
        "    return snake_case_name"
      ]
    },
    {
      "cell_type": "markdown",
      "id": "cbd260f5-f8c5-43a5-aaf4-7bc382e4639a",
      "metadata": {
        "id": "cbd260f5-f8c5-43a5-aaf4-7bc382e4639a"
      },
      "source": [
        "Cоздаем новый список с переименованными названиями столбцов и присваиваем новые названия столбцам в наш df"
      ]
    },
    {
      "cell_type": "code",
      "execution_count": null,
      "id": "f58c805b-a668-4c26-a5ae-6eddd109416e",
      "metadata": {
        "id": "f58c805b-a668-4c26-a5ae-6eddd109416e",
        "outputId": "dcecb96c-deca-4bcb-96f8-d700259a6f04",
        "colab": {
          "base_uri": "https://localhost:8080/"
        }
      },
      "outputs": [
        {
          "output_type": "execute_result",
          "data": {
            "text/plain": [
              "Index(['age', 'systolic_bp', 'diastolic_bp', 'bs', 'body_temp', 'heart_rate',\n",
              "       'risk_level'],\n",
              "      dtype='object')"
            ]
          },
          "metadata": {},
          "execution_count": 8
        }
      ],
      "source": [
        "new_columns = [convert_to_snake_case(col) for col in df.columns]\n",
        "\n",
        "df.columns = new_columns\n",
        "df.columns"
      ]
    },
    {
      "cell_type": "markdown",
      "id": "8e73e9a8-6693-4386-b8fc-0d30d3ce7b74",
      "metadata": {
        "id": "8e73e9a8-6693-4386-b8fc-0d30d3ce7b74"
      },
      "source": [
        "Проверяем пропущенные значения"
      ]
    },
    {
      "cell_type": "code",
      "execution_count": null,
      "id": "187d36da-073e-44b7-9299-a2a4e5df217d",
      "metadata": {
        "id": "187d36da-073e-44b7-9299-a2a4e5df217d",
        "outputId": "72ccff5f-e85d-4352-9d54-ac307b51c043",
        "colab": {
          "base_uri": "https://localhost:8080/"
        }
      },
      "outputs": [
        {
          "output_type": "execute_result",
          "data": {
            "text/plain": [
              "age             0\n",
              "systolic_bp     0\n",
              "diastolic_bp    0\n",
              "bs              0\n",
              "body_temp       0\n",
              "heart_rate      0\n",
              "risk_level      0\n",
              "dtype: int64"
            ]
          },
          "metadata": {},
          "execution_count": 9
        }
      ],
      "source": [
        "df.isna().sum()"
      ]
    },
    {
      "cell_type": "markdown",
      "id": "3219f612-eda6-4f57-9745-843b79ec3b9d",
      "metadata": {
        "id": "3219f612-eda6-4f57-9745-843b79ec3b9d"
      },
      "source": [
        "### 3. Исследовательский анализ данных"
      ]
    },
    {
      "cell_type": "code",
      "execution_count": null,
      "id": "de6e508c-4a55-4993-ae36-9ae1d6865303",
      "metadata": {
        "id": "de6e508c-4a55-4993-ae36-9ae1d6865303",
        "outputId": "e5a7778b-e50b-42b0-99a5-d4804263d602",
        "colab": {
          "base_uri": "https://localhost:8080/",
          "height": 545
        }
      },
      "outputs": [
        {
          "output_type": "display_data",
          "data": {
            "text/plain": [
              "<Figure size 1200x600 with 1 Axes>"
            ],
            "image/png": "[encoded data removed]"
          },
          "metadata": {}
        }
      ],
      "source": [
        "numeric_columns = df.select_dtypes(include=['int64', 'float64']).columns\n",
        "\n",
        "plt.figure(figsize=(12,6))\n",
        "sns.boxplot(data=df,\n",
        "            orient='h')\n",
        "plt.title(f'Распределение признаков')\n",
        "plt.show()"
      ]
    },
    {
      "cell_type": "markdown",
      "id": "58b9f1aa-59d4-4fae-952a-63032e754327",
      "metadata": {
        "id": "58b9f1aa-59d4-4fae-952a-63032e754327"
      },
      "source": [
        "Есть явные выбросы в признаке `hear_rate`. Можно их убрать методом LOF"
      ]
    },
    {
      "cell_type": "code",
      "execution_count": null,
      "id": "d8a02bcc-0531-4a34-be85-6a0acabc57d0",
      "metadata": {
        "id": "d8a02bcc-0531-4a34-be85-6a0acabc57d0"
      },
      "outputs": [],
      "source": [
        "lof_model = LocalOutlierFactor()\n",
        "\n",
        "X_train = df[['heart_rate']]\n",
        "lof_model.fit(X_train)\n",
        "\n",
        "outliers = lof_model.fit_predict(X_train)\n",
        "\n",
        "df = df[outliers != -1]"
      ]
    },
    {
      "cell_type": "code",
      "execution_count": null,
      "id": "36404913-f2cb-49dd-bada-2a4c693b6043",
      "metadata": {
        "id": "36404913-f2cb-49dd-bada-2a4c693b6043",
        "outputId": "0c4d08dc-af29-4c32-b93d-16068913d162",
        "colab": {
          "base_uri": "https://localhost:8080/",
          "height": 1000
        }
      },
      "outputs": [
        {
          "output_type": "display_data",
          "data": {
            "text/plain": [
              "<Figure size 800x400 with 1 Axes>"
            ],
            "image/png": "[encoded data removed]"
          },
          "metadata": {}
        },
        {
          "output_type": "display_data",
          "data": {
            "text/plain": [
              "<Figure size 800x400 with 1 Axes>"
            ],
            "image/png": "[encoded data removed]"
          },
          "metadata": {}
        },
        {
          "output_type": "display_data",
          "data": {
            "text/plain": [
              "<Figure size 800x400 with 1 Axes>"
            ],
            "image/png": "[encoded data removed]"
          },
          "metadata": {}
        },
        {
          "output_type": "display_data",
          "data": {
            "text/plain": [
              "<Figure size 800x400 with 1 Axes>"
            ],
            "image/png": "[encoded data removed]"
          },
          "metadata": {}
        },
        {
          "output_type": "display_data",
          "data": {
            "text/plain": [
              "<Figure size 800x400 with 1 Axes>"
            ],
            "image/png": "[encoded data removed]"
          },
          "metadata": {}
        },
        {
          "output_type": "display_data",
          "data": {
            "text/plain": [
              "<Figure size 800x400 with 1 Axes>"
            ],
            "image/png": "[encoded data removed]"
          },
          "metadata": {}
        }
      ],
      "source": [
        "numeric_columns = df.select_dtypes(include=['int64', 'float64']).columns\n",
        "\n",
        "for column in numeric_columns:\n",
        "    plt.figure(figsize=(8,4))\n",
        "    sns.histplot(data=df,\n",
        "                 x=column)\n",
        "    plt.title(f'Распределение признака: {column}')\n",
        "    plt.show()"
      ]
    },
    {
      "cell_type": "markdown",
      "id": "7b97b8d4-254c-4c93-b771-4d2180c1e795",
      "metadata": {
        "id": "7b97b8d4-254c-4c93-b771-4d2180c1e795"
      },
      "source": [
        "Распределения данных далеко от нормального. Пытался логорифмировать признаки, но особого эффекта это не дало"
      ]
    },
    {
      "cell_type": "markdown",
      "id": "d1bc3a5c-960c-4410-8df0-608835d412cb",
      "metadata": {
        "id": "d1bc3a5c-960c-4410-8df0-608835d412cb"
      },
      "source": [
        "Закодируем таргет для обучения"
      ]
    },
    {
      "cell_type": "code",
      "execution_count": null,
      "id": "09daf184-72b1-4ea3-a21a-44b308856092",
      "metadata": {
        "id": "09daf184-72b1-4ea3-a21a-44b308856092",
        "outputId": "203688e6-c7d3-49a3-db3a-cd24b132e78b",
        "colab": {
          "base_uri": "https://localhost:8080/"
        }
      },
      "outputs": [
        {
          "output_type": "execute_result",
          "data": {
            "text/plain": [
              "array(['high risk', 'low risk', 'mid risk'], dtype=object)"
            ]
          },
          "metadata": {},
          "execution_count": 13
        }
      ],
      "source": [
        "df['risk_level'].unique()"
      ]
    },
    {
      "cell_type": "code",
      "execution_count": null,
      "id": "f87104e7-0949-4cc1-a3a8-79b28acd702e",
      "metadata": {
        "id": "f87104e7-0949-4cc1-a3a8-79b28acd702e",
        "outputId": "ba0fe373-8c03-4862-9070-a9770930524a",
        "colab": {
          "base_uri": "https://localhost:8080/",
          "height": 206
        }
      },
      "outputs": [
        {
          "output_type": "execute_result",
          "data": {
            "text/plain": [
              "   age  systolic_bp  diastolic_bp    bs  body_temp  heart_rate risk_level  \\\n",
              "0   25          130            80  15.0       98.0          86  high risk   \n",
              "1   35          140            90  13.0       98.0          70  high risk   \n",
              "2   29           90            70   8.0      100.0          80  high risk   \n",
              "3   30          140            85   7.0       98.0          70  high risk   \n",
              "4   35          120            60   6.1       98.0          76   low risk   \n",
              "\n",
              "   risk_level_cat  \n",
              "0               2  \n",
              "1               2  \n",
              "2               2  \n",
              "3               2  \n",
              "4               0  "
            ],
            "text/html": [
              "\n",
              "  <div id=\"df-7efbb5d5-1272-4091-aa4e-28afc13dea05\" class=\"colab-df-container\">\n",
              "    <div>\n",
              "<style scoped>\n",
              "    .dataframe tbody tr th:only-of-type {\n",
              "        vertical-align: middle;\n",
              "    }\n",
              "\n",
              "    .dataframe tbody tr th {\n",
              "        vertical-align: top;\n",
              "    }\n",
              "\n",
              "    .dataframe thead th {\n",
              "        text-align: right;\n",
              "    }\n",
              "</style>\n",
              "<table border=\"1\" class=\"dataframe\">\n",
              "  <thead>\n",
              "    <tr style=\"text-align: right;\">\n",
              "      <th></th>\n",
              "      <th>age</th>\n",
              "      <th>systolic_bp</th>\n",
              "      <th>diastolic_bp</th>\n",
              "      <th>bs</th>\n",
              "      <th>body_temp</th>\n",
              "      <th>heart_rate</th>\n",
              "      <th>risk_level</th>\n",
              "      <th>risk_level_cat</th>\n",
              "    </tr>\n",
              "  </thead>\n",
              "  <tbody>\n",
              "    <tr>\n",
              "      <th>0</th>\n",
              "      <td>25</td>\n",
              "      <td>130</td>\n",
              "      <td>80</td>\n",
              "      <td>15.0</td>\n",
              "      <td>98.0</td>\n",
              "      <td>86</td>\n",
              "      <td>high risk</td>\n",
              "      <td>2</td>\n",
              "    </tr>\n",
              "    <tr>\n",
              "      <th>1</th>\n",
              "      <td>35</td>\n",
              "      <td>140</td>\n",
              "      <td>90</td>\n",
              "      <td>13.0</td>\n",
              "      <td>98.0</td>\n",
              "      <td>70</td>\n",
              "      <td>high risk</td>\n",
              "      <td>2</td>\n",
              "    </tr>\n",
              "    <tr>\n",
              "      <th>2</th>\n",
              "      <td>29</td>\n",
              "      <td>90</td>\n",
              "      <td>70</td>\n",
              "      <td>8.0</td>\n",
              "      <td>100.0</td>\n",
              "      <td>80</td>\n",
              "      <td>high risk</td>\n",
              "      <td>2</td>\n",
              "    </tr>\n",
              "    <tr>\n",
              "      <th>3</th>\n",
              "      <td>30</td>\n",
              "      <td>140</td>\n",
              "      <td>85</td>\n",
              "      <td>7.0</td>\n",
              "      <td>98.0</td>\n",
              "      <td>70</td>\n",
              "      <td>high risk</td>\n",
              "      <td>2</td>\n",
              "    </tr>\n",
              "    <tr>\n",
              "      <th>4</th>\n",
              "      <td>35</td>\n",
              "      <td>120</td>\n",
              "      <td>60</td>\n",
              "      <td>6.1</td>\n",
              "      <td>98.0</td>\n",
              "      <td>76</td>\n",
              "      <td>low risk</td>\n",
              "      <td>0</td>\n",
              "    </tr>\n",
              "  </tbody>\n",
              "</table>\n",
              "</div>\n",
              "    <div class=\"colab-df-buttons\">\n",
              "\n",
              "  <div class=\"colab-df-container\">\n",
              "    <button class=\"colab-df-convert\" onclick=\"convertToInteractive('df-7efbb5d5-1272-4091-aa4e-28afc13dea05')\"\n",
              "            title=\"Convert this dataframe to an interactive table.\"\n",
              "            style=\"display:none;\">\n",
              "\n",
              "  <svg xmlns=\"http://www.w3.org/2000/svg\" height=\"24px\" viewBox=\"0 -960 960 960\">\n",
              "    <path d=\"M120-120v-720h720v720H120Zm60-500h600v-160H180v160Zm220 220h160v-160H400v160Zm0 220h160v-160H400v160ZM180-400h160v-160H180v160Zm440 0h160v-160H620v160ZM180-180h160v-160H180v160Zm440 0h160v-160H620v160Z\"/>\n",
              "  </svg>\n",
              "    </button>\n",
              "\n",
              "  <style>\n",
              "    .colab-df-container {\n",
              "      display:flex;\n",
              "      gap: 12px;\n",
              "    }\n",
              "\n",
              "    .colab-df-convert {\n",
              "      background-color: #E8F0FE;\n",
              "      border: none;\n",
              "      border-radius: 50%;\n",
              "      cursor: pointer;\n",
              "      display: none;\n",
              "      fill: #1967D2;\n",
              "      height: 32px;\n",
              "      padding: 0 0 0 0;\n",
              "      width: 32px;\n",
              "    }\n",
              "\n",
              "    .colab-df-convert:hover {\n",
              "      background-color: #E2EBFA;\n",
              "      box-shadow: 0px 1px 2px rgba(60, 64, 67, 0.3), 0px 1px 3px 1px rgba(60, 64, 67, 0.15);\n",
              "      fill: #174EA6;\n",
              "    }\n",
              "\n",
              "    .colab-df-buttons div {\n",
              "      margin-bottom: 4px;\n",
              "    }\n",
              "\n",
              "    [theme=dark] .colab-df-convert {\n",
              "      background-color: #3B4455;\n",
              "      fill: #D2E3FC;\n",
              "    }\n",
              "\n",
              "    [theme=dark] .colab-df-convert:hover {\n",
              "      background-color: #434B5C;\n",
              "      box-shadow: 0px 1px 3px 1px rgba(0, 0, 0, 0.15);\n",
              "      filter: drop-shadow(0px 1px 2px rgba(0, 0, 0, 0.3));\n",
              "      fill: #FFFFFF;\n",
              "    }\n",
              "  </style>\n",
              "\n",
              "    <script>\n",
              "      const buttonEl =\n",
              "        document.querySelector('#df-7efbb5d5-1272-4091-aa4e-28afc13dea05 button.colab-df-convert');\n",
              "      buttonEl.style.display =\n",
              "        google.colab.kernel.accessAllowed ? 'block' : 'none';\n",
              "\n",
              "      async function convertToInteractive(key) {\n",
              "        const element = document.querySelector('#df-7efbb5d5-1272-4091-aa4e-28afc13dea05');\n",
              "        const dataTable =\n",
              "          await google.colab.kernel.invokeFunction('convertToInteractive',\n",
              "                                                    [key], {});\n",
              "        if (!dataTable) return;\n",
              "\n",
              "        const docLinkHtml = 'Like what you see? Visit the ' +\n",
              "          '<a target=\"_blank\" href=https://colab.research.google.com/notebooks/data_table.ipynb>data table notebook</a>'\n",
              "          + ' to learn more about interactive tables.';\n",
              "        element.innerHTML = '';\n",
              "        dataTable['output_type'] = 'display_data';\n",
              "        await google.colab.output.renderOutput(dataTable, element);\n",
              "        const docLink = document.createElement('div');\n",
              "        docLink.innerHTML = docLinkHtml;\n",
              "        element.appendChild(docLink);\n",
              "      }\n",
              "    </script>\n",
              "  </div>\n",
              "\n",
              "\n",
              "<div id=\"df-fa1d67a0-5a06-48c8-885b-b65e2b7703e6\">\n",
              "  <button class=\"colab-df-quickchart\" onclick=\"quickchart('df-fa1d67a0-5a06-48c8-885b-b65e2b7703e6')\"\n",
              "            title=\"Suggest charts\"\n",
              "            style=\"display:none;\">\n",
              "\n",
              "<svg xmlns=\"http://www.w3.org/2000/svg\" height=\"24px\"viewBox=\"0 0 24 24\"\n",
              "     width=\"24px\">\n",
              "    <g>\n",
              "        <path d=\"M19 3H5c-1.1 0-2 .9-2 2v14c0 1.1.9 2 2 2h14c1.1 0 2-.9 2-2V5c0-1.1-.9-2-2-2zM9 17H7v-7h2v7zm4 0h-2V7h2v10zm4 0h-2v-4h2v4z\"/>\n",
              "    </g>\n",
              "</svg>\n",
              "  </button>\n",
              "\n",
              "<style>\n",
              "  .colab-df-quickchart {\n",
              "      --bg-color: #E8F0FE;\n",
              "      --fill-color: #1967D2;\n",
              "      --hover-bg-color: #E2EBFA;\n",
              "      --hover-fill-color: #174EA6;\n",
              "      --disabled-fill-color: #AAA;\n",
              "      --disabled-bg-color: #DDD;\n",
              "  }\n",
              "\n",
              "  [theme=dark] .colab-df-quickchart {\n",
              "      --bg-color: #3B4455;\n",
              "      --fill-color: #D2E3FC;\n",
              "      --hover-bg-color: #434B5C;\n",
              "      --hover-fill-color: #FFFFFF;\n",
              "      --disabled-bg-color: #3B4455;\n",
              "      --disabled-fill-color: #666;\n",
              "  }\n",
              "\n",
              "  .colab-df-quickchart {\n",
              "    background-color: var(--bg-color);\n",
              "    border: none;\n",
              "    border-radius: 50%;\n",
              "    cursor: pointer;\n",
              "    display: none;\n",
              "    fill: var(--fill-color);\n",
              "    height: 32px;\n",
              "    padding: 0;\n",
              "    width: 32px;\n",
              "  }\n",
              "\n",
              "  .colab-df-quickchart:hover {\n",
              "    background-color: var(--hover-bg-color);\n",
              "    box-shadow: 0 1px 2px rgba(60, 64, 67, 0.3), 0 1px 3px 1px rgba(60, 64, 67, 0.15);\n",
              "    fill: var(--button-hover-fill-color);\n",
              "  }\n",
              "\n",
              "  .colab-df-quickchart-complete:disabled,\n",
              "  .colab-df-quickchart-complete:disabled:hover {\n",
              "    background-color: var(--disabled-bg-color);\n",
              "    fill: var(--disabled-fill-color);\n",
              "    box-shadow: none;\n",
              "  }\n",
              "\n",
              "  .colab-df-spinner {\n",
              "    border: 2px solid var(--fill-color);\n",
              "    border-color: transparent;\n",
              "    border-bottom-color: var(--fill-color);\n",
              "    animation:\n",
              "      spin 1s steps(1) infinite;\n",
              "  }\n",
              "\n",
              "  @keyframes spin {\n",
              "    0% {\n",
              "      border-color: transparent;\n",
              "      border-bottom-color: var(--fill-color);\n",
              "      border-left-color: var(--fill-color);\n",
              "    }\n",
              "    20% {\n",
              "      border-color: transparent;\n",
              "      border-left-color: var(--fill-color);\n",
              "      border-top-color: var(--fill-color);\n",
              "    }\n",
              "    30% {\n",
              "      border-color: transparent;\n",
              "      border-left-color: var(--fill-color);\n",
              "      border-top-color: var(--fill-color);\n",
              "      border-right-color: var(--fill-color);\n",
              "    }\n",
              "    40% {\n",
              "      border-color: transparent;\n",
              "      border-right-color: var(--fill-color);\n",
              "      border-top-color: var(--fill-color);\n",
              "    }\n",
              "    60% {\n",
              "      border-color: transparent;\n",
              "      border-right-color: var(--fill-color);\n",
              "    }\n",
              "    80% {\n",
              "      border-color: transparent;\n",
              "      border-right-color: var(--fill-color);\n",
              "      border-bottom-color: var(--fill-color);\n",
              "    }\n",
              "    90% {\n",
              "      border-color: transparent;\n",
              "      border-bottom-color: var(--fill-color);\n",
              "    }\n",
              "  }\n",
              "</style>\n",
              "\n",
              "  <script>\n",
              "    async function quickchart(key) {\n",
              "      const quickchartButtonEl =\n",
              "        document.querySelector('#' + key + ' button');\n",
              "      quickchartButtonEl.disabled = true;  // To prevent multiple clicks.\n",
              "      quickchartButtonEl.classList.add('colab-df-spinner');\n",
              "      try {\n",
              "        const charts = await google.colab.kernel.invokeFunction(\n",
              "            'suggestCharts', [key], {});\n",
              "      } catch (error) {\n",
              "        console.error('Error during call to suggestCharts:', error);\n",
              "      }\n",
              "      quickchartButtonEl.classList.remove('colab-df-spinner');\n",
              "      quickchartButtonEl.classList.add('colab-df-quickchart-complete');\n",
              "    }\n",
              "    (() => {\n",
              "      let quickchartButtonEl =\n",
              "        document.querySelector('#df-fa1d67a0-5a06-48c8-885b-b65e2b7703e6 button');\n",
              "      quickchartButtonEl.style.display =\n",
              "        google.colab.kernel.accessAllowed ? 'block' : 'none';\n",
              "    })();\n",
              "  </script>\n",
              "</div>\n",
              "    </div>\n",
              "  </div>\n"
            ],
            "application/vnd.google.colaboratory.intrinsic+json": {
              "type": "dataframe",
              "variable_name": "df",
              "summary": "{\n  \"name\": \"df\",\n  \"rows\": 936,\n  \"fields\": [\n    {\n      \"column\": \"age\",\n      \"properties\": {\n        \"dtype\": \"number\",\n        \"std\": 13,\n        \"min\": 10,\n        \"max\": 70,\n        \"num_unique_values\": 47,\n        \"samples\": [\n          28,\n          65,\n          33\n        ],\n        \"semantic_type\": \"\",\n        \"description\": \"\"\n      }\n    },\n    {\n      \"column\": \"systolic_bp\",\n      \"properties\": {\n        \"dtype\": \"number\",\n        \"std\": 18,\n        \"min\": 70,\n        \"max\": 160,\n        \"num_unique_values\": 19,\n        \"samples\": [\n          130,\n          110,\n          80\n        ],\n        \"semantic_type\": \"\",\n        \"description\": \"\"\n      }\n    },\n    {\n      \"column\": \"diastolic_bp\",\n      \"properties\": {\n        \"dtype\": \"number\",\n        \"std\": 13,\n        \"min\": 49,\n        \"max\": 100,\n        \"num_unique_values\": 16,\n        \"samples\": [\n          80,\n          90,\n          89\n        ],\n        \"semantic_type\": \"\",\n        \"description\": \"\"\n      }\n    },\n    {\n      \"column\": \"bs\",\n      \"properties\": {\n        \"dtype\": \"number\",\n        \"std\": 3.154192474002799,\n        \"min\": 6.0,\n        \"max\": 19.0,\n        \"num_unique_values\": 29,\n        \"samples\": [\n          6.5,\n          7.7,\n          7.1\n        ],\n        \"semantic_type\": \"\",\n        \"description\": \"\"\n      }\n    },\n    {\n      \"column\": \"body_temp\",\n      \"properties\": {\n        \"dtype\": \"number\",\n        \"std\": 1.3422250478142046,\n        \"min\": 98.0,\n        \"max\": 103.0,\n        \"num_unique_values\": 8,\n        \"samples\": [\n          100.0,\n          98.4,\n          98.0\n        ],\n        \"semantic_type\": \"\",\n        \"description\": \"\"\n      }\n    },\n    {\n      \"column\": \"heart_rate\",\n      \"properties\": {\n        \"dtype\": \"number\",\n        \"std\": 7,\n        \"min\": 60,\n        \"max\": 88,\n        \"num_unique_values\": 9,\n        \"samples\": [\n          66,\n          70,\n          77\n        ],\n        \"semantic_type\": \"\",\n        \"description\": \"\"\n      }\n    },\n    {\n      \"column\": \"risk_level\",\n      \"properties\": {\n        \"dtype\": \"category\",\n        \"num_unique_values\": 3,\n        \"samples\": [\n          \"high risk\",\n          \"low risk\",\n          \"mid risk\"\n        ],\n        \"semantic_type\": \"\",\n        \"description\": \"\"\n      }\n    },\n    {\n      \"column\": \"risk_level_cat\",\n      \"properties\": {\n        \"dtype\": \"number\",\n        \"std\": 0,\n        \"min\": 0,\n        \"max\": 2,\n        \"num_unique_values\": 3,\n        \"samples\": [\n          2,\n          0,\n          1\n        ],\n        \"semantic_type\": \"\",\n        \"description\": \"\"\n      }\n    }\n  ]\n}"
            }
          },
          "metadata": {},
          "execution_count": 14
        }
      ],
      "source": [
        "df['risk_level_cat'] = df['risk_level'].map({'high risk': 2, 'mid risk': 1, 'low risk': 0})\n",
        "df.head()"
      ]
    },
    {
      "cell_type": "code",
      "execution_count": null,
      "id": "089c41c1-555d-44cf-ac2c-132d3431a369",
      "metadata": {
        "id": "089c41c1-555d-44cf-ac2c-132d3431a369",
        "outputId": "241616fb-0dd2-42e9-846d-ae96827e70a0",
        "colab": {
          "base_uri": "https://localhost:8080/",
          "height": 392
        }
      },
      "outputs": [
        {
          "output_type": "display_data",
          "data": {
            "text/plain": [
              "<Figure size 800x400 with 1 Axes>"
            ],
            "image/png": "[encoded data removed]"
          },
          "metadata": {}
        }
      ],
      "source": [
        "plt.figure(figsize=(8,4))\n",
        "sns.histplot(data=df,\n",
        "             x=df['risk_level_cat'])\n",
        "plt.show()"
      ]
    },
    {
      "cell_type": "markdown",
      "id": "10172917-3cd6-4035-bfe8-880390deb4cc",
      "metadata": {
        "id": "10172917-3cd6-4035-bfe8-880390deb4cc"
      },
      "source": [
        "Есть небольшой дисбаланс классов"
      ]
    },
    {
      "cell_type": "markdown",
      "id": "2779be47-b40d-4198-a7fa-6ed82d779c49",
      "metadata": {
        "id": "2779be47-b40d-4198-a7fa-6ed82d779c49"
      },
      "source": [
        "Создадим новые признаки"
      ]
    },
    {
      "cell_type": "code",
      "execution_count": null,
      "id": "e345dabd-8893-456f-adfe-2cc46440f9f7",
      "metadata": {
        "id": "e345dabd-8893-456f-adfe-2cc46440f9f7",
        "outputId": "34ec8134-018c-450a-dd41-d225221a7386",
        "colab": {
          "base_uri": "https://localhost:8080/"
        }
      },
      "outputs": [
        {
          "output_type": "execute_result",
          "data": {
            "text/plain": [
              "Index(['age', 'systolic_bp', 'diastolic_bp', 'bs', 'body_temp', 'heart_rate',\n",
              "       'risk_level', 'risk_level_cat'],\n",
              "      dtype='object')"
            ]
          },
          "metadata": {},
          "execution_count": 16
        }
      ],
      "source": [
        "df.columns"
      ]
    },
    {
      "cell_type": "markdown",
      "id": "f4e2e21a-61d2-4e84-b508-6f61e88f60c3",
      "metadata": {
        "id": "f4e2e21a-61d2-4e84-b508-6f61e88f60c3"
      },
      "source": [
        "Отношение верхнего к нижнему артериальному давлению"
      ]
    },
    {
      "cell_type": "code",
      "execution_count": null,
      "id": "d22ae769-a652-4e1f-a2a5-be9e040690ab",
      "metadata": {
        "id": "d22ae769-a652-4e1f-a2a5-be9e040690ab"
      },
      "outputs": [],
      "source": [
        "df['blood_pressure_ratio'] = df['systolic_bp'] / df['diastolic_bp']"
      ]
    },
    {
      "cell_type": "markdown",
      "id": "26dc364d-0fe1-4d91-a689-65b29718fd8e",
      "metadata": {
        "id": "26dc364d-0fe1-4d91-a689-65b29718fd8e"
      },
      "source": [
        "Отношение уровня глюкозы к артериальному давлению"
      ]
    },
    {
      "cell_type": "code",
      "execution_count": null,
      "id": "361b66bd-c3f7-4dea-9374-83742bf51e90",
      "metadata": {
        "id": "361b66bd-c3f7-4dea-9374-83742bf51e90"
      },
      "outputs": [],
      "source": [
        "df['glucose_blood_pressure_ratio'] = df['bs'] / (df['systolic_bp'] + df['diastolic_bp'])"
      ]
    },
    {
      "cell_type": "markdown",
      "id": "9365c963-d5d0-47c5-be99-2b12ec07c4ad",
      "metadata": {
        "id": "9365c963-d5d0-47c5-be99-2b12ec07c4ad"
      },
      "source": [
        "Отношение уровня глюкозы к температуре тела"
      ]
    },
    {
      "cell_type": "code",
      "execution_count": null,
      "id": "dff0e14e-c150-47ee-88de-7501a02bb6ef",
      "metadata": {
        "id": "dff0e14e-c150-47ee-88de-7501a02bb6ef"
      },
      "outputs": [],
      "source": [
        "df['glucose_body_temp_ratio'] = df['bs'] / df['body_temp']"
      ]
    },
    {
      "cell_type": "markdown",
      "id": "20a41f85-c2e9-4d6c-818f-7e52f99db10d",
      "metadata": {
        "id": "20a41f85-c2e9-4d6c-818f-7e52f99db10d"
      },
      "source": [
        "Отношение верхнего артериального давления к пульсу"
      ]
    },
    {
      "cell_type": "code",
      "execution_count": null,
      "id": "34ec1c1e-05f7-4e2a-99d3-e40cf5ae7198",
      "metadata": {
        "id": "34ec1c1e-05f7-4e2a-99d3-e40cf5ae7198"
      },
      "outputs": [],
      "source": [
        "df['systolic_bp_heart_rate_ratio'] = df['systolic_bp'] / df['heart_rate']"
      ]
    },
    {
      "cell_type": "markdown",
      "id": "817ed476-9e27-410f-ab4b-d50ecb98388d",
      "metadata": {
        "id": "817ed476-9e27-410f-ab4b-d50ecb98388d"
      },
      "source": [
        "Разница между верхним и нижним артериальным давлением"
      ]
    },
    {
      "cell_type": "code",
      "execution_count": null,
      "id": "7d2ff7bd-196d-465a-8d96-42250e05846c",
      "metadata": {
        "id": "7d2ff7bd-196d-465a-8d96-42250e05846c"
      },
      "outputs": [],
      "source": [
        "df['bp_difference'] = df['systolic_bp'] - df['diastolic_bp']"
      ]
    },
    {
      "cell_type": "code",
      "execution_count": null,
      "id": "471831d8-5404-423f-9c3e-58a9a4e55d11",
      "metadata": {
        "id": "471831d8-5404-423f-9c3e-58a9a4e55d11",
        "outputId": "16333512-8931-4d47-b0ca-fd4a83662cf3",
        "colab": {
          "base_uri": "https://localhost:8080/",
          "height": 444
        }
      },
      "outputs": [
        {
          "output_type": "execute_result",
          "data": {
            "text/plain": [
              "      age  systolic_bp  diastolic_bp    bs  body_temp  heart_rate risk_level  \\\n",
              "0      25          130            80  15.0       98.0          86  high risk   \n",
              "1      35          140            90  13.0       98.0          70  high risk   \n",
              "2      29           90            70   8.0      100.0          80  high risk   \n",
              "3      30          140            85   7.0       98.0          70  high risk   \n",
              "4      35          120            60   6.1       98.0          76   low risk   \n",
              "...   ...          ...           ...   ...        ...         ...        ...   \n",
              "1009   22          120            60  15.0       98.0          80  high risk   \n",
              "1010   55          120            90  18.0       98.0          60  high risk   \n",
              "1011   35           85            60  19.0       98.0          86  high risk   \n",
              "1012   43          120            90  18.0       98.0          70  high risk   \n",
              "1013   32          120            65   6.0      101.0          76   mid risk   \n",
              "\n",
              "      risk_level_cat  blood_pressure_ratio  glucose_blood_pressure_ratio  \\\n",
              "0                  2              1.625000                      0.071429   \n",
              "1                  2              1.555556                      0.056522   \n",
              "2                  2              1.285714                      0.050000   \n",
              "3                  2              1.647059                      0.031111   \n",
              "4                  0              2.000000                      0.033889   \n",
              "...              ...                   ...                           ...   \n",
              "1009               2              2.000000                      0.083333   \n",
              "1010               2              1.333333                      0.085714   \n",
              "1011               2              1.416667                      0.131034   \n",
              "1012               2              1.333333                      0.085714   \n",
              "1013               1              1.846154                      0.032432   \n",
              "\n",
              "      glucose_body_temp_ratio  systolic_bp_heart_rate_ratio  bp_difference  \n",
              "0                    0.153061                      1.511628             50  \n",
              "1                    0.132653                      2.000000             50  \n",
              "2                    0.080000                      1.125000             20  \n",
              "3                    0.071429                      2.000000             55  \n",
              "4                    0.062245                      1.578947             60  \n",
              "...                       ...                           ...            ...  \n",
              "1009                 0.153061                      1.500000             60  \n",
              "1010                 0.183673                      2.000000             30  \n",
              "1011                 0.193878                      0.988372             25  \n",
              "1012                 0.183673                      1.714286             30  \n",
              "1013                 0.059406                      1.578947             55  \n",
              "\n",
              "[936 rows x 13 columns]"
            ],
            "text/html": [
              "\n",
              "  <div id=\"df-79bfb0e0-9569-4fe1-91b6-4922684a378d\" class=\"colab-df-container\">\n",
              "    <div>\n",
              "<style scoped>\n",
              "    .dataframe tbody tr th:only-of-type {\n",
              "        vertical-align: middle;\n",
              "    }\n",
              "\n",
              "    .dataframe tbody tr th {\n",
              "        vertical-align: top;\n",
              "    }\n",
              "\n",
              "    .dataframe thead th {\n",
              "        text-align: right;\n",
              "    }\n",
              "</style>\n",
              "<table border=\"1\" class=\"dataframe\">\n",
              "  <thead>\n",
              "    <tr style=\"text-align: right;\">\n",
              "      <th></th>\n",
              "      <th>age</th>\n",
              "      <th>systolic_bp</th>\n",
              "      <th>diastolic_bp</th>\n",
              "      <th>bs</th>\n",
              "      <th>body_temp</th>\n",
              "      <th>heart_rate</th>\n",
              "      <th>risk_level</th>\n",
              "      <th>risk_level_cat</th>\n",
              "      <th>blood_pressure_ratio</th>\n",
              "      <th>glucose_blood_pressure_ratio</th>\n",
              "      <th>glucose_body_temp_ratio</th>\n",
              "      <th>systolic_bp_heart_rate_ratio</th>\n",
              "      <th>bp_difference</th>\n",
              "    </tr>\n",
              "  </thead>\n",
              "  <tbody>\n",
              "    <tr>\n",
              "      <th>0</th>\n",
              "      <td>25</td>\n",
              "      <td>130</td>\n",
              "      <td>80</td>\n",
              "      <td>15.0</td>\n",
              "      <td>98.0</td>\n",
              "      <td>86</td>\n",
              "      <td>high risk</td>\n",
              "      <td>2</td>\n",
              "      <td>1.625000</td>\n",
              "      <td>0.071429</td>\n",
              "      <td>0.153061</td>\n",
              "      <td>1.511628</td>\n",
              "      <td>50</td>\n",
              "    </tr>\n",
              "    <tr>\n",
              "      <th>1</th>\n",
              "      <td>35</td>\n",
              "      <td>140</td>\n",
              "      <td>90</td>\n",
              "      <td>13.0</td>\n",
              "      <td>98.0</td>\n",
              "      <td>70</td>\n",
              "      <td>high risk</td>\n",
              "      <td>2</td>\n",
              "      <td>1.555556</td>\n",
              "      <td>0.056522</td>\n",
              "      <td>0.132653</td>\n",
              "      <td>2.000000</td>\n",
              "      <td>50</td>\n",
              "    </tr>\n",
              "    <tr>\n",
              "      <th>2</th>\n",
              "      <td>29</td>\n",
              "      <td>90</td>\n",
              "      <td>70</td>\n",
              "      <td>8.0</td>\n",
              "      <td>100.0</td>\n",
              "      <td>80</td>\n",
              "      <td>high risk</td>\n",
              "      <td>2</td>\n",
              "      <td>1.285714</td>\n",
              "      <td>0.050000</td>\n",
              "      <td>0.080000</td>\n",
              "      <td>1.125000</td>\n",
              "      <td>20</td>\n",
              "    </tr>\n",
              "    <tr>\n",
              "      <th>3</th>\n",
              "      <td>30</td>\n",
              "      <td>140</td>\n",
              "      <td>85</td>\n",
              "      <td>7.0</td>\n",
              "      <td>98.0</td>\n",
              "      <td>70</td>\n",
              "      <td>high risk</td>\n",
              "      <td>2</td>\n",
              "      <td>1.647059</td>\n",
              "      <td>0.031111</td>\n",
              "      <td>0.071429</td>\n",
              "      <td>2.000000</td>\n",
              "      <td>55</td>\n",
              "    </tr>\n",
              "    <tr>\n",
              "      <th>4</th>\n",
              "      <td>35</td>\n",
              "      <td>120</td>\n",
              "      <td>60</td>\n",
              "      <td>6.1</td>\n",
              "      <td>98.0</td>\n",
              "      <td>76</td>\n",
              "      <td>low risk</td>\n",
              "      <td>0</td>\n",
              "      <td>2.000000</td>\n",
              "      <td>0.033889</td>\n",
              "      <td>0.062245</td>\n",
              "      <td>1.578947</td>\n",
              "      <td>60</td>\n",
              "    </tr>\n",
              "    <tr>\n",
              "      <th>...</th>\n",
              "      <td>...</td>\n",
              "      <td>...</td>\n",
              "      <td>...</td>\n",
              "      <td>...</td>\n",
              "      <td>...</td>\n",
              "      <td>...</td>\n",
              "      <td>...</td>\n",
              "      <td>...</td>\n",
              "      <td>...</td>\n",
              "      <td>...</td>\n",
              "      <td>...</td>\n",
              "      <td>...</td>\n",
              "      <td>...</td>\n",
              "    </tr>\n",
              "    <tr>\n",
              "      <th>1009</th>\n",
              "      <td>22</td>\n",
              "      <td>120</td>\n",
              "      <td>60</td>\n",
              "      <td>15.0</td>\n",
              "      <td>98.0</td>\n",
              "      <td>80</td>\n",
              "      <td>high risk</td>\n",
              "      <td>2</td>\n",
              "      <td>2.000000</td>\n",
              "      <td>0.083333</td>\n",
              "      <td>0.153061</td>\n",
              "      <td>1.500000</td>\n",
              "      <td>60</td>\n",
              "    </tr>\n",
              "    <tr>\n",
              "      <th>1010</th>\n",
              "      <td>55</td>\n",
              "      <td>120</td>\n",
              "      <td>90</td>\n",
              "      <td>18.0</td>\n",
              "      <td>98.0</td>\n",
              "      <td>60</td>\n",
              "      <td>high risk</td>\n",
              "      <td>2</td>\n",
              "      <td>1.333333</td>\n",
              "      <td>0.085714</td>\n",
              "      <td>0.183673</td>\n",
              "      <td>2.000000</td>\n",
              "      <td>30</td>\n",
              "    </tr>\n",
              "    <tr>\n",
              "      <th>1011</th>\n",
              "      <td>35</td>\n",
              "      <td>85</td>\n",
              "      <td>60</td>\n",
              "      <td>19.0</td>\n",
              "      <td>98.0</td>\n",
              "      <td>86</td>\n",
              "      <td>high risk</td>\n",
              "      <td>2</td>\n",
              "      <td>1.416667</td>\n",
              "      <td>0.131034</td>\n",
              "      <td>0.193878</td>\n",
              "      <td>0.988372</td>\n",
              "      <td>25</td>\n",
              "    </tr>\n",
              "    <tr>\n",
              "      <th>1012</th>\n",
              "      <td>43</td>\n",
              "      <td>120</td>\n",
              "      <td>90</td>\n",
              "      <td>18.0</td>\n",
              "      <td>98.0</td>\n",
              "      <td>70</td>\n",
              "      <td>high risk</td>\n",
              "      <td>2</td>\n",
              "      <td>1.333333</td>\n",
              "      <td>0.085714</td>\n",
              "      <td>0.183673</td>\n",
              "      <td>1.714286</td>\n",
              "      <td>30</td>\n",
              "    </tr>\n",
              "    <tr>\n",
              "      <th>1013</th>\n",
              "      <td>32</td>\n",
              "      <td>120</td>\n",
              "      <td>65</td>\n",
              "      <td>6.0</td>\n",
              "      <td>101.0</td>\n",
              "      <td>76</td>\n",
              "      <td>mid risk</td>\n",
              "      <td>1</td>\n",
              "      <td>1.846154</td>\n",
              "      <td>0.032432</td>\n",
              "      <td>0.059406</td>\n",
              "      <td>1.578947</td>\n",
              "      <td>55</td>\n",
              "    </tr>\n",
              "  </tbody>\n",
              "</table>\n",
              "<p>936 rows × 13 columns</p>\n",
              "</div>\n",
              "    <div class=\"colab-df-buttons\">\n",
              "\n",
              "  <div class=\"colab-df-container\">\n",
              "    <button class=\"colab-df-convert\" onclick=\"convertToInteractive('df-79bfb0e0-9569-4fe1-91b6-4922684a378d')\"\n",
              "            title=\"Convert this dataframe to an interactive table.\"\n",
              "            style=\"display:none;\">\n",
              "\n",
              "  <svg xmlns=\"http://www.w3.org/2000/svg\" height=\"24px\" viewBox=\"0 -960 960 960\">\n",
              "    <path d=\"M120-120v-720h720v720H120Zm60-500h600v-160H180v160Zm220 220h160v-160H400v160Zm0 220h160v-160H400v160ZM180-400h160v-160H180v160Zm440 0h160v-160H620v160ZM180-180h160v-160H180v160Zm440 0h160v-160H620v160Z\"/>\n",
              "  </svg>\n",
              "    </button>\n",
              "\n",
              "  <style>\n",
              "    .colab-df-container {\n",
              "      display:flex;\n",
              "      gap: 12px;\n",
              "    }\n",
              "\n",
              "    .colab-df-convert {\n",
              "      background-color: #E8F0FE;\n",
              "      border: none;\n",
              "      border-radius: 50%;\n",
              "      cursor: pointer;\n",
              "      display: none;\n",
              "      fill: #1967D2;\n",
              "      height: 32px;\n",
              "      padding: 0 0 0 0;\n",
              "      width: 32px;\n",
              "    }\n",
              "\n",
              "    .colab-df-convert:hover {\n",
              "      background-color: #E2EBFA;\n",
              "      box-shadow: 0px 1px 2px rgba(60, 64, 67, 0.3), 0px 1px 3px 1px rgba(60, 64, 67, 0.15);\n",
              "      fill: #174EA6;\n",
              "    }\n",
              "\n",
              "    .colab-df-buttons div {\n",
              "      margin-bottom: 4px;\n",
              "    }\n",
              "\n",
              "    [theme=dark] .colab-df-convert {\n",
              "      background-color: #3B4455;\n",
              "      fill: #D2E3FC;\n",
              "    }\n",
              "\n",
              "    [theme=dark] .colab-df-convert:hover {\n",
              "      background-color: #434B5C;\n",
              "      box-shadow: 0px 1px 3px 1px rgba(0, 0, 0, 0.15);\n",
              "      filter: drop-shadow(0px 1px 2px rgba(0, 0, 0, 0.3));\n",
              "      fill: #FFFFFF;\n",
              "    }\n",
              "  </style>\n",
              "\n",
              "    <script>\n",
              "      const buttonEl =\n",
              "        document.querySelector('#df-79bfb0e0-9569-4fe1-91b6-4922684a378d button.colab-df-convert');\n",
              "      buttonEl.style.display =\n",
              "        google.colab.kernel.accessAllowed ? 'block' : 'none';\n",
              "\n",
              "      async function convertToInteractive(key) {\n",
              "        const element = document.querySelector('#df-79bfb0e0-9569-4fe1-91b6-4922684a378d');\n",
              "        const dataTable =\n",
              "          await google.colab.kernel.invokeFunction('convertToInteractive',\n",
              "                                                    [key], {});\n",
              "        if (!dataTable) return;\n",
              "\n",
              "        const docLinkHtml = 'Like what you see? Visit the ' +\n",
              "          '<a target=\"_blank\" href=https://colab.research.google.com/notebooks/data_table.ipynb>data table notebook</a>'\n",
              "          + ' to learn more about interactive tables.';\n",
              "        element.innerHTML = '';\n",
              "        dataTable['output_type'] = 'display_data';\n",
              "        await google.colab.output.renderOutput(dataTable, element);\n",
              "        const docLink = document.createElement('div');\n",
              "        docLink.innerHTML = docLinkHtml;\n",
              "        element.appendChild(docLink);\n",
              "      }\n",
              "    </script>\n",
              "  </div>\n",
              "\n",
              "\n",
              "<div id=\"df-9e4b7c36-08b3-4abf-b577-b7ef771cb835\">\n",
              "  <button class=\"colab-df-quickchart\" onclick=\"quickchart('df-9e4b7c36-08b3-4abf-b577-b7ef771cb835')\"\n",
              "            title=\"Suggest charts\"\n",
              "            style=\"display:none;\">\n",
              "\n",
              "<svg xmlns=\"http://www.w3.org/2000/svg\" height=\"24px\"viewBox=\"0 0 24 24\"\n",
              "     width=\"24px\">\n",
              "    <g>\n",
              "        <path d=\"M19 3H5c-1.1 0-2 .9-2 2v14c0 1.1.9 2 2 2h14c1.1 0 2-.9 2-2V5c0-1.1-.9-2-2-2zM9 17H7v-7h2v7zm4 0h-2V7h2v10zm4 0h-2v-4h2v4z\"/>\n",
              "    </g>\n",
              "</svg>\n",
              "  </button>\n",
              "\n",
              "<style>\n",
              "  .colab-df-quickchart {\n",
              "      --bg-color: #E8F0FE;\n",
              "      --fill-color: #1967D2;\n",
              "      --hover-bg-color: #E2EBFA;\n",
              "      --hover-fill-color: #174EA6;\n",
              "      --disabled-fill-color: #AAA;\n",
              "      --disabled-bg-color: #DDD;\n",
              "  }\n",
              "\n",
              "  [theme=dark] .colab-df-quickchart {\n",
              "      --bg-color: #3B4455;\n",
              "      --fill-color: #D2E3FC;\n",
              "      --hover-bg-color: #434B5C;\n",
              "      --hover-fill-color: #FFFFFF;\n",
              "      --disabled-bg-color: #3B4455;\n",
              "      --disabled-fill-color: #666;\n",
              "  }\n",
              "\n",
              "  .colab-df-quickchart {\n",
              "    background-color: var(--bg-color);\n",
              "    border: none;\n",
              "    border-radius: 50%;\n",
              "    cursor: pointer;\n",
              "    display: none;\n",
              "    fill: var(--fill-color);\n",
              "    height: 32px;\n",
              "    padding: 0;\n",
              "    width: 32px;\n",
              "  }\n",
              "\n",
              "  .colab-df-quickchart:hover {\n",
              "    background-color: var(--hover-bg-color);\n",
              "    box-shadow: 0 1px 2px rgba(60, 64, 67, 0.3), 0 1px 3px 1px rgba(60, 64, 67, 0.15);\n",
              "    fill: var(--button-hover-fill-color);\n",
              "  }\n",
              "\n",
              "  .colab-df-quickchart-complete:disabled,\n",
              "  .colab-df-quickchart-complete:disabled:hover {\n",
              "    background-color: var(--disabled-bg-color);\n",
              "    fill: var(--disabled-fill-color);\n",
              "    box-shadow: none;\n",
              "  }\n",
              "\n",
              "  .colab-df-spinner {\n",
              "    border: 2px solid var(--fill-color);\n",
              "    border-color: transparent;\n",
              "    border-bottom-color: var(--fill-color);\n",
              "    animation:\n",
              "      spin 1s steps(1) infinite;\n",
              "  }\n",
              "\n",
              "  @keyframes spin {\n",
              "    0% {\n",
              "      border-color: transparent;\n",
              "      border-bottom-color: var(--fill-color);\n",
              "      border-left-color: var(--fill-color);\n",
              "    }\n",
              "    20% {\n",
              "      border-color: transparent;\n",
              "      border-left-color: var(--fill-color);\n",
              "      border-top-color: var(--fill-color);\n",
              "    }\n",
              "    30% {\n",
              "      border-color: transparent;\n",
              "      border-left-color: var(--fill-color);\n",
              "      border-top-color: var(--fill-color);\n",
              "      border-right-color: var(--fill-color);\n",
              "    }\n",
              "    40% {\n",
              "      border-color: transparent;\n",
              "      border-right-color: var(--fill-color);\n",
              "      border-top-color: var(--fill-color);\n",
              "    }\n",
              "    60% {\n",
              "      border-color: transparent;\n",
              "      border-right-color: var(--fill-color);\n",
              "    }\n",
              "    80% {\n",
              "      border-color: transparent;\n",
              "      border-right-color: var(--fill-color);\n",
              "      border-bottom-color: var(--fill-color);\n",
              "    }\n",
              "    90% {\n",
              "      border-color: transparent;\n",
              "      border-bottom-color: var(--fill-color);\n",
              "    }\n",
              "  }\n",
              "</style>\n",
              "\n",
              "  <script>\n",
              "    async function quickchart(key) {\n",
              "      const quickchartButtonEl =\n",
              "        document.querySelector('#' + key + ' button');\n",
              "      quickchartButtonEl.disabled = true;  // To prevent multiple clicks.\n",
              "      quickchartButtonEl.classList.add('colab-df-spinner');\n",
              "      try {\n",
              "        const charts = await google.colab.kernel.invokeFunction(\n",
              "            'suggestCharts', [key], {});\n",
              "      } catch (error) {\n",
              "        console.error('Error during call to suggestCharts:', error);\n",
              "      }\n",
              "      quickchartButtonEl.classList.remove('colab-df-spinner');\n",
              "      quickchartButtonEl.classList.add('colab-df-quickchart-complete');\n",
              "    }\n",
              "    (() => {\n",
              "      let quickchartButtonEl =\n",
              "        document.querySelector('#df-9e4b7c36-08b3-4abf-b577-b7ef771cb835 button');\n",
              "      quickchartButtonEl.style.display =\n",
              "        google.colab.kernel.accessAllowed ? 'block' : 'none';\n",
              "    })();\n",
              "  </script>\n",
              "</div>\n",
              "    </div>\n",
              "  </div>\n"
            ],
            "application/vnd.google.colaboratory.intrinsic+json": {
              "type": "dataframe",
              "variable_name": "df",
              "summary": "{\n  \"name\": \"df\",\n  \"rows\": 936,\n  \"fields\": [\n    {\n      \"column\": \"age\",\n      \"properties\": {\n        \"dtype\": \"number\",\n        \"std\": 13,\n        \"min\": 10,\n        \"max\": 70,\n        \"num_unique_values\": 47,\n        \"samples\": [\n          28,\n          65,\n          33\n        ],\n        \"semantic_type\": \"\",\n        \"description\": \"\"\n      }\n    },\n    {\n      \"column\": \"systolic_bp\",\n      \"properties\": {\n        \"dtype\": \"number\",\n        \"std\": 18,\n        \"min\": 70,\n        \"max\": 160,\n        \"num_unique_values\": 19,\n        \"samples\": [\n          130,\n          110,\n          80\n        ],\n        \"semantic_type\": \"\",\n        \"description\": \"\"\n      }\n    },\n    {\n      \"column\": \"diastolic_bp\",\n      \"properties\": {\n        \"dtype\": \"number\",\n        \"std\": 13,\n        \"min\": 49,\n        \"max\": 100,\n        \"num_unique_values\": 16,\n        \"samples\": [\n          80,\n          90,\n          89\n        ],\n        \"semantic_type\": \"\",\n        \"description\": \"\"\n      }\n    },\n    {\n      \"column\": \"bs\",\n      \"properties\": {\n        \"dtype\": \"number\",\n        \"std\": 3.154192474002799,\n        \"min\": 6.0,\n        \"max\": 19.0,\n        \"num_unique_values\": 29,\n        \"samples\": [\n          6.5,\n          7.7,\n          7.1\n        ],\n        \"semantic_type\": \"\",\n        \"description\": \"\"\n      }\n    },\n    {\n      \"column\": \"body_temp\",\n      \"properties\": {\n        \"dtype\": \"number\",\n        \"std\": 1.3422250478142046,\n        \"min\": 98.0,\n        \"max\": 103.0,\n        \"num_unique_values\": 8,\n        \"samples\": [\n          100.0,\n          98.4,\n          98.0\n        ],\n        \"semantic_type\": \"\",\n        \"description\": \"\"\n      }\n    },\n    {\n      \"column\": \"heart_rate\",\n      \"properties\": {\n        \"dtype\": \"number\",\n        \"std\": 7,\n        \"min\": 60,\n        \"max\": 88,\n        \"num_unique_values\": 9,\n        \"samples\": [\n          66,\n          70,\n          77\n        ],\n        \"semantic_type\": \"\",\n        \"description\": \"\"\n      }\n    },\n    {\n      \"column\": \"risk_level\",\n      \"properties\": {\n        \"dtype\": \"category\",\n        \"num_unique_values\": 3,\n        \"samples\": [\n          \"high risk\",\n          \"low risk\",\n          \"mid risk\"\n        ],\n        \"semantic_type\": \"\",\n        \"description\": \"\"\n      }\n    },\n    {\n      \"column\": \"risk_level_cat\",\n      \"properties\": {\n        \"dtype\": \"number\",\n        \"std\": 0,\n        \"min\": 0,\n        \"max\": 2,\n        \"num_unique_values\": 3,\n        \"samples\": [\n          2,\n          0,\n          1\n        ],\n        \"semantic_type\": \"\",\n        \"description\": \"\"\n      }\n    },\n    {\n      \"column\": \"blood_pressure_ratio\",\n      \"properties\": {\n        \"dtype\": \"number\",\n        \"std\": 0.18534211823645044,\n        \"min\": 1.1111111111111112,\n        \"max\": 2.25,\n        \"num_unique_values\": 48,\n        \"samples\": [\n          2.25,\n          1.2222222222222223,\n          1.4736842105263157\n        ],\n        \"semantic_type\": \"\",\n        \"description\": \"\"\n      }\n    },\n    {\n      \"column\": \"glucose_blood_pressure_ratio\",\n      \"properties\": {\n        \"dtype\": \"number\",\n        \"std\": 0.014385220840371004,\n        \"min\": 0.028333333333333332,\n        \"max\": 0.1310344827586207,\n        \"num_unique_values\": 201,\n        \"samples\": [\n          0.036216216216216214,\n          0.029208333333333333,\n          0.036969696969696965\n        ],\n        \"semantic_type\": \"\",\n        \"description\": \"\"\n      }\n    },\n    {\n      \"column\": \"glucose_body_temp_ratio\",\n      \"properties\": {\n        \"dtype\": \"number\",\n        \"std\": 0.032209891750244406,\n        \"min\": 0.0594059405940594,\n        \"max\": 0.19387755102040816,\n        \"num_unique_values\": 71,\n        \"samples\": [\n          0.16326530612244897,\n          0.15306122448979592,\n          0.06176470588235294\n        ],\n        \"semantic_type\": \"\",\n        \"description\": \"\"\n      }\n    },\n    {\n      \"column\": \"systolic_bp_heart_rate_ratio\",\n      \"properties\": {\n        \"dtype\": \"number\",\n        \"std\": 0.3018651034633893,\n        \"min\": 0.9651162790697675,\n        \"max\": 2.3333333333333335,\n        \"num_unique_values\": 52,\n        \"samples\": [\n          1.0714285714285714,\n          0.9651162790697675,\n          1.3026315789473684\n        ],\n        \"semantic_type\": \"\",\n        \"description\": \"\"\n      }\n    },\n    {\n      \"column\": \"bp_difference\",\n      \"properties\": {\n        \"dtype\": \"number\",\n        \"std\": 11,\n        \"min\": 8,\n        \"max\": 75,\n        \"num_unique_values\": 23,\n        \"samples\": [\n          23,\n          35,\n          50\n        ],\n        \"semantic_type\": \"\",\n        \"description\": \"\"\n      }\n    }\n  ]\n}"
            }
          },
          "metadata": {},
          "execution_count": 22
        }
      ],
      "source": [
        "df"
      ]
    },
    {
      "cell_type": "markdown",
      "id": "bd33847a-8df6-4d3e-a577-d8844c2ec831",
      "metadata": {
        "id": "bd33847a-8df6-4d3e-a577-d8844c2ec831"
      },
      "source": [
        "### 4. Обучение модели"
      ]
    },
    {
      "cell_type": "markdown",
      "source": [
        "Используем Catboost"
      ],
      "metadata": {
        "id": "OpwjB-29a1o8"
      },
      "id": "OpwjB-29a1o8"
    },
    {
      "cell_type": "code",
      "execution_count": null,
      "id": "fc93782a-1957-43e7-905a-ed571fdb0058",
      "metadata": {
        "scrolled": true,
        "id": "fc93782a-1957-43e7-905a-ed571fdb0058",
        "outputId": "ed5b912e-12ec-4354-b457-5aa468831a8a",
        "colab": {
          "base_uri": "https://localhost:8080/"
        }
      },
      "outputs": [
        {
          "output_type": "stream",
          "name": "stderr",
          "text": [
            "<ipython-input-23-9417f9c6e046>:21: ExperimentalWarning: OptunaSearchCV is experimental (supported from v0.17.0). The interface can change in the future.\n",
            "  optuna_search = OptunaSearchCV(clf,\n",
            "[I 2024-04-22 11:18:39,561] A new study created in memory with name: no-name-e90386b3-570e-4cb3-861b-ecdbc4d0d596\n",
            "INFO:optuna_integration.sklearn:Searching the best hyperparameters using 748 samples...\n",
            "[I 2024-04-22 11:18:43,485] Trial 0 finished with value: 0.6858313253012048 and parameters: {'learning_rate': 0.002113223292523986, 'iterations': 1066, 'depth': 1, 'min_data_in_leaf': 4, 'colsample_bylevel': 0.878037168969117}. Best is trial 0 with value: 0.6858313253012048.\n",
            "[I 2024-04-22 11:19:25,527] Trial 1 finished with value: 0.8061686746987952 and parameters: {'learning_rate': 0.160585238828122, 'iterations': 982, 'depth': 9, 'min_data_in_leaf': 1, 'colsample_bylevel': 0.5036290286687811}. Best is trial 1 with value: 0.8061686746987952.\n",
            "[I 2024-04-22 11:19:27,983] Trial 3 finished with value: 0.7540240963855421 and parameters: {'learning_rate': 0.025549281938271173, 'iterations': 1172, 'depth': 2, 'min_data_in_leaf': 10, 'colsample_bylevel': 0.5734261507592092}. Best is trial 1 with value: 0.8061686746987952.\n",
            "[I 2024-04-22 11:19:30,851] Trial 4 finished with value: 0.8141954484605086 and parameters: {'learning_rate': 0.43320350807440916, 'iterations': 893, 'depth': 4, 'min_data_in_leaf': 7, 'colsample_bylevel': 0.4650851430530341}. Best is trial 4 with value: 0.8141954484605086.\n",
            "[I 2024-04-22 11:19:38,294] Trial 2 finished with value: 0.7633788487282464 and parameters: {'learning_rate': 0.0025019121807189353, 'iterations': 1148, 'depth': 9, 'min_data_in_leaf': 8, 'colsample_bylevel': 0.6418418585627013}. Best is trial 4 with value: 0.8141954484605086.\n",
            "[I 2024-04-22 11:19:40,514] Trial 6 finished with value: 0.7031967871485943 and parameters: {'learning_rate': 0.0003617375166188251, 'iterations': 1080, 'depth': 4, 'min_data_in_leaf': 6, 'colsample_bylevel': 0.1395728466250774}. Best is trial 4 with value: 0.8141954484605086.\n",
            "[I 2024-04-22 11:19:42,089] Trial 7 finished with value: 0.6831432396251674 and parameters: {'learning_rate': 0.00028942179339971403, 'iterations': 960, 'depth': 2, 'min_data_in_leaf': 8, 'colsample_bylevel': 0.12106824944112633}. Best is trial 4 with value: 0.8141954484605086.\n",
            "[I 2024-04-22 11:19:51,434] Trial 8 finished with value: 0.7312878179384205 and parameters: {'learning_rate': 0.0004312102496483136, 'iterations': 836, 'depth': 8, 'min_data_in_leaf': 4, 'colsample_bylevel': 0.2944270460425191}. Best is trial 4 with value: 0.8141954484605086.\n",
            "[I 2024-04-22 11:19:52,087] Trial 5 finished with value: 0.7232503346720215 and parameters: {'learning_rate': 0.00025485707514372, 'iterations': 837, 'depth': 8, 'min_data_in_leaf': 7, 'colsample_bylevel': 0.7931271163469656}. Best is trial 4 with value: 0.8141954484605086.\n",
            "[I 2024-04-22 11:19:56,619] Trial 9 finished with value: 0.737954484605087 and parameters: {'learning_rate': 0.004437709220626515, 'iterations': 1016, 'depth': 6, 'min_data_in_leaf': 6, 'colsample_bylevel': 0.38869860747905655}. Best is trial 4 with value: 0.8141954484605086.\n",
            "[I 2024-04-22 11:19:57,799] Trial 10 finished with value: 0.8128781793842036 and parameters: {'learning_rate': 0.10512967656939182, 'iterations': 861, 'depth': 6, 'min_data_in_leaf': 6, 'colsample_bylevel': 0.5063001702118898}. Best is trial 4 with value: 0.8141954484605086.\n",
            "[I 2024-04-22 11:20:02,662] Trial 11 finished with value: 0.8128567603748326 and parameters: {'learning_rate': 0.5444825017056679, 'iterations': 908, 'depth': 5, 'min_data_in_leaf': 10, 'colsample_bylevel': 0.7034322373473076}. Best is trial 4 with value: 0.8141954484605086.\n",
            "[I 2024-04-22 11:20:03,234] Trial 12 finished with value: 0.8101740294511378 and parameters: {'learning_rate': 0.820794517144925, 'iterations': 905, 'depth': 5, 'min_data_in_leaf': 4, 'colsample_bylevel': 0.3562745216961655}. Best is trial 4 with value: 0.8141954484605086.\n",
            "[I 2024-04-22 11:20:08,350] Trial 13 finished with value: 0.8168674698795181 and parameters: {'learning_rate': 0.06517600543421151, 'iterations': 902, 'depth': 6, 'min_data_in_leaf': 3, 'colsample_bylevel': 0.41070363409374533}. Best is trial 13 with value: 0.8168674698795181.\n",
            "[I 2024-04-22 11:20:10,320] Trial 15 finished with value: 0.762045515394913 and parameters: {'learning_rate': 0.035786788378149643, 'iterations': 913, 'depth': 3, 'min_data_in_leaf': 1, 'colsample_bylevel': 0.23362835584351854}. Best is trial 13 with value: 0.8168674698795181.\n",
            "[I 2024-04-22 11:20:11,392] Trial 14 finished with value: 0.8208728246318607 and parameters: {'learning_rate': 0.0797951224753887, 'iterations': 808, 'depth': 7, 'min_data_in_leaf': 8, 'colsample_bylevel': 0.5139512223145101}. Best is trial 14 with value: 0.8208728246318607.\n",
            "[I 2024-04-22 11:20:19,497] Trial 16 finished with value: 0.8128460508701473 and parameters: {'learning_rate': 0.2731681524295076, 'iterations': 805, 'depth': 7, 'min_data_in_leaf': 3, 'colsample_bylevel': 0.4238580182477255}. Best is trial 14 with value: 0.8208728246318607.\n",
            "[I 2024-04-22 11:20:25,085] Trial 17 finished with value: 0.7780829986613119 and parameters: {'learning_rate': 0.012272781544552441, 'iterations': 809, 'depth': 7, 'min_data_in_leaf': 3, 'colsample_bylevel': 0.9967817299746016}. Best is trial 14 with value: 0.8208728246318607.\n",
            "[I 2024-04-22 11:21:15,146] Trial 18 finished with value: 0.8155180722891567 and parameters: {'learning_rate': 0.04290537282078515, 'iterations': 806, 'depth': 10, 'min_data_in_leaf': 3, 'colsample_bylevel': 0.6376778529262931}. Best is trial 14 with value: 0.8208728246318607.\n",
            "[I 2024-04-22 11:21:19,143] Trial 20 finished with value: 0.8195448460508702 and parameters: {'learning_rate': 0.08169302570482921, 'iterations': 950, 'depth': 7, 'min_data_in_leaf': 9, 'colsample_bylevel': 0.2035558960439851}. Best is trial 14 with value: 0.8208728246318607.\n",
            "[I 2024-04-22 11:21:23,048] Trial 21 finished with value: 0.7674056224899598 and parameters: {'learning_rate': 0.009840537031427139, 'iterations': 953, 'depth': 7, 'min_data_in_leaf': 9, 'colsample_bylevel': 0.20527154175760942}. Best is trial 14 with value: 0.8208728246318607.\n",
            "[I 2024-04-22 11:21:29,458] Trial 22 finished with value: 0.8101793842034807 and parameters: {'learning_rate': 0.12733023588462583, 'iterations': 859, 'depth': 6, 'min_data_in_leaf': 9, 'colsample_bylevel': 0.3079121659254467}. Best is trial 14 with value: 0.8208728246318607.\n",
            "[I 2024-04-22 11:21:29,514] Trial 19 finished with value: 0.81685140562249 and parameters: {'learning_rate': 0.06366266591182036, 'iterations': 946, 'depth': 10, 'min_data_in_leaf': 2, 'colsample_bylevel': 0.6134536608427366}. Best is trial 14 with value: 0.8208728246318607.\n",
            "[I 2024-04-22 11:21:31,037] Trial 24 finished with value: 0.7366265060240963 and parameters: {'learning_rate': 0.015853892195394192, 'iterations': 1016, 'depth': 8, 'min_data_in_leaf': 8, 'colsample_bylevel': 0.06858417013233503}. Best is trial 14 with value: 0.8208728246318607.\n",
            "[I 2024-04-22 11:21:31,213] Trial 23 finished with value: 0.7647175368139223 and parameters: {'learning_rate': 0.059966016995522294, 'iterations': 1014, 'depth': 8, 'min_data_in_leaf': 8, 'colsample_bylevel': 0.0645443801094337}. Best is trial 14 with value: 0.8208728246318607.\n",
            "[I 2024-04-22 11:21:33,912] Trial 26 finished with value: 0.8155180722891567 and parameters: {'learning_rate': 0.23701750908376798, 'iterations': 877, 'depth': 5, 'min_data_in_leaf': 5, 'colsample_bylevel': 0.24482274624353959}. Best is trial 14 with value: 0.8208728246318607.\n",
            "[I 2024-04-22 11:21:35,790] Trial 25 finished with value: 0.8128460508701473 and parameters: {'learning_rate': 0.24532772223539479, 'iterations': 866, 'depth': 7, 'min_data_in_leaf': 5, 'colsample_bylevel': 0.24797999680039046}. Best is trial 14 with value: 0.8208728246318607.\n",
            "[I 2024-04-22 11:21:38,663] Trial 28 finished with value: 0.8182008032128515 and parameters: {'learning_rate': 0.08303088122868225, 'iterations': 1054, 'depth': 4, 'min_data_in_leaf': 9, 'colsample_bylevel': 0.36650180755151646}. Best is trial 14 with value: 0.8208728246318607.\n",
            "[I 2024-04-22 11:21:43,268] Trial 27 finished with value: 0.80885140562249 and parameters: {'learning_rate': 0.08797220963755545, 'iterations': 926, 'depth': 7, 'min_data_in_leaf': 9, 'colsample_bylevel': 0.34919902681222525}. Best is trial 14 with value: 0.8208728246318607.\n",
            "[I 2024-04-22 11:21:43,765] Trial 29 finished with value: 0.7714002677376172 and parameters: {'learning_rate': 0.021163213463917228, 'iterations': 1055, 'depth': 4, 'min_data_in_leaf': 9, 'colsample_bylevel': 0.34658284291680475}. Best is trial 14 with value: 0.8208728246318607.\n",
            "[I 2024-04-22 11:21:45,652] Trial 31 finished with value: 0.7098902275769746 and parameters: {'learning_rate': 0.005108787274793157, 'iterations': 1104, 'depth': 1, 'min_data_in_leaf': 10, 'colsample_bylevel': 0.7445975806286746}. Best is trial 14 with value: 0.8208728246318607.\n",
            "[I 2024-04-22 11:21:47,753] Trial 30 finished with value: 0.7112289156626507 and parameters: {'learning_rate': 0.0009243235844724957, 'iterations': 1068, 'depth': 4, 'min_data_in_leaf': 10, 'colsample_bylevel': 0.7292261920520433}. Best is trial 14 with value: 0.8208728246318607.\n",
            "[I 2024-04-22 11:21:51,411] Trial 32 finished with value: 0.8208781793842035 and parameters: {'learning_rate': 0.040803096063408366, 'iterations': 986, 'depth': 6, 'min_data_in_leaf': 7, 'colsample_bylevel': 0.4513462417046977}. Best is trial 32 with value: 0.8208781793842035.\n",
            "[I 2024-04-22 11:21:54,074] Trial 33 finished with value: 0.81285140562249 and parameters: {'learning_rate': 0.15472208883446067, 'iterations': 984, 'depth': 6, 'min_data_in_leaf': 7, 'colsample_bylevel': 0.4394342818437726}. Best is trial 32 with value: 0.8208781793842035.\n",
            "[I 2024-04-22 11:22:23,417] Trial 34 finished with value: 0.8101686746987952 and parameters: {'learning_rate': 0.16527295488915345, 'iterations': 984, 'depth': 9, 'min_data_in_leaf': 7, 'colsample_bylevel': 0.5493957635743231}. Best is trial 32 with value: 0.8208781793842035.\n",
            "[I 2024-04-22 11:22:27,833] Trial 36 finished with value: 0.7740722891566265 and parameters: {'learning_rate': 0.03632173150537622, 'iterations': 1138, 'depth': 3, 'min_data_in_leaf': 8, 'colsample_bylevel': 0.4763988672106621}. Best is trial 32 with value: 0.8208781793842035.\n",
            "[I 2024-04-22 11:22:29,308] Trial 35 finished with value: 0.8141793842034807 and parameters: {'learning_rate': 0.02939316870483894, 'iterations': 1043, 'depth': 9, 'min_data_in_leaf': 7, 'colsample_bylevel': 0.5552723772830614}. Best is trial 32 with value: 0.8208781793842035.\n",
            "[I 2024-04-22 11:22:32,236] Trial 38 finished with value: 0.7098848728246319 and parameters: {'learning_rate': 0.00012253974917616377, 'iterations': 1124, 'depth': 5, 'min_data_in_leaf': 9, 'colsample_bylevel': 0.17873017109755837}. Best is trial 32 with value: 0.8208781793842035.\n",
            "[I 2024-04-22 11:22:32,728] Trial 37 finished with value: 0.708562248995984 and parameters: {'learning_rate': 0.00013128917667856578, 'iterations': 1057, 'depth': 5, 'min_data_in_leaf': 9, 'colsample_bylevel': 0.5933356537842954}. Best is trial 32 with value: 0.8208781793842035.\n",
            "[I 2024-04-22 11:22:34,960] Trial 39 finished with value: 0.7312717536813923 and parameters: {'learning_rate': 0.00765161682521054, 'iterations': 1190, 'depth': 3, 'min_data_in_leaf': 8, 'colsample_bylevel': 0.2956849689248335}. Best is trial 32 with value: 0.8208781793842035.\n",
            "[I 2024-04-22 11:22:35,673] Trial 40 finished with value: 0.732615796519411 and parameters: {'learning_rate': 0.008110017563352999, 'iterations': 1172, 'depth': 3, 'min_data_in_leaf': 8, 'colsample_bylevel': 0.5048501084951257}. Best is trial 32 with value: 0.8208781793842035.\n",
            "[I 2024-04-22 11:22:41,066] Trial 41 finished with value: 0.8208728246318607 and parameters: {'learning_rate': 0.3939018892759928, 'iterations': 1093, 'depth': 8, 'min_data_in_leaf': 8, 'colsample_bylevel': 0.14394979926942947}. Best is trial 32 with value: 0.8208781793842035.\n",
            "[I 2024-04-22 11:22:43,526] Trial 42 finished with value: 0.8168567603748326 and parameters: {'learning_rate': 0.06330094585560218, 'iterations': 967, 'depth': 6, 'min_data_in_leaf': 7, 'colsample_bylevel': 0.4065238751177711}. Best is trial 32 with value: 0.8208781793842035.\n",
            "[I 2024-04-22 11:22:44,467] Trial 43 finished with value: 0.8208942436412316 and parameters: {'learning_rate': 0.5180725765073202, 'iterations': 1038, 'depth': 8, 'min_data_in_leaf': 7, 'colsample_bylevel': 0.1403033972617453}. Best is trial 43 with value: 0.8208942436412316.\n",
            "[I 2024-04-22 11:22:47,080] Trial 44 finished with value: 0.8181954484605086 and parameters: {'learning_rate': 0.34159424563675644, 'iterations': 1091, 'depth': 8, 'min_data_in_leaf': 8, 'colsample_bylevel': 0.14387236508507453}. Best is trial 43 with value: 0.8208942436412316.\n",
            "[I 2024-04-22 11:22:48,059] Trial 45 finished with value: 0.8222115127175368 and parameters: {'learning_rate': 0.5390461809754552, 'iterations': 1085, 'depth': 8, 'min_data_in_leaf': 6, 'colsample_bylevel': 0.14407641440513302}. Best is trial 45 with value: 0.8222115127175368.\n",
            "[I 2024-04-22 11:22:49,128] Trial 46 finished with value: 0.832904953145917 and parameters: {'learning_rate': 0.5522044756915883, 'iterations': 1034, 'depth': 8, 'min_data_in_leaf': 6, 'colsample_bylevel': 0.10457187018145014}. Best is trial 46 with value: 0.832904953145917.\n",
            "[I 2024-04-22 11:22:51,514] Trial 47 finished with value: 0.8235502008032128 and parameters: {'learning_rate': 0.8393095000785089, 'iterations': 1112, 'depth': 8, 'min_data_in_leaf': 6, 'colsample_bylevel': 0.11872362449582691}. Best is trial 46 with value: 0.832904953145917.\n",
            "[I 2024-04-22 11:22:52,421] Trial 48 finished with value: 0.8235502008032128 and parameters: {'learning_rate': 0.7867700532990147, 'iterations': 1034, 'depth': 9, 'min_data_in_leaf': 6, 'colsample_bylevel': 0.0996765116075093}. Best is trial 46 with value: 0.832904953145917.\n",
            "[I 2024-04-22 11:22:54,577] Trial 49 finished with value: 0.8182008032128515 and parameters: {'learning_rate': 0.9611832952839825, 'iterations': 1034, 'depth': 9, 'min_data_in_leaf': 6, 'colsample_bylevel': 0.10210708162571398}. Best is trial 46 with value: 0.832904953145917.\n",
            "INFO:optuna_integration.sklearn:Finished hyperparameter search!\n",
            "INFO:optuna_integration.sklearn:Refitting the estimator using 748 samples...\n",
            "INFO:optuna_integration.sklearn:Finished refitting! (elapsed time: 0.636 sec.)\n"
          ]
        },
        {
          "output_type": "stream",
          "name": "stdout",
          "text": [
            "Best Recall on train: 0.832904953145917\n",
            "Best parameters: {'learning_rate': 0.5522044756915883, 'iterations': 1034, 'depth': 8, 'min_data_in_leaf': 6, 'colsample_bylevel': 0.10457187018145014}\n",
            "Recall on test: 0.8457446808510638\n",
            "F1 score on test: 0.8460189663001794\n",
            "              precision    recall  f1-score   support\n",
            "\n",
            "           0       0.86      0.83      0.84        75\n",
            "           1       0.79      0.83      0.81        64\n",
            "           2       0.90      0.90      0.90        49\n",
            "\n",
            "    accuracy                           0.85       188\n",
            "   macro avg       0.85      0.85      0.85       188\n",
            "weighted avg       0.85      0.85      0.85       188\n",
            "\n"
          ]
        }
      ],
      "source": [
        "features = df.drop(['risk_level', 'risk_level_cat'], axis=1)\n",
        "target = df['risk_level_cat']\n",
        "random_state = 1234\n",
        "features_train, features_test, target_train, target_test = train_test_split(features,\n",
        "                                                                            target,\n",
        "                                                                            test_size=0.2,\n",
        "                                                                            random_state=random_state)\n",
        "\n",
        "param = {\n",
        "    'learning_rate': optuna.distributions.FloatDistribution(1e-4, 1, log=True),\n",
        "    'iterations': optuna.distributions.IntDistribution(800, 1200),\n",
        "    'depth': optuna.distributions.IntDistribution(1, 10),\n",
        "    'min_data_in_leaf': optuna.distributions.IntDistribution(1, 10),\n",
        "    'colsample_bylevel': optuna.distributions.FloatDistribution(0.05, 1.0),\n",
        "}\n",
        "\n",
        "\n",
        "clf = CatBoostClassifier(auto_class_weights='Balanced',\n",
        "                         verbose=False)\n",
        "\n",
        "optuna_search = OptunaSearchCV(clf,\n",
        "                               param,\n",
        "                               cv=3,\n",
        "                               n_trials=50,\n",
        "                               scoring='recall_weighted',\n",
        "                               timeout=500,\n",
        "                               verbose=3,\n",
        "                               n_jobs=-1)\n",
        "\n",
        "optuna_search.fit(features_train,\n",
        "                  target_train)\n",
        "\n",
        "print(\"Best Recall on train:\", optuna_search.best_score_)\n",
        "print(\"Best parameters:\", optuna_search.best_params_)\n",
        "\n",
        "test_predictions = optuna_search.predict(features_test)\n",
        "\n",
        "recall = recall_score(target_test,\n",
        "                      test_predictions,\n",
        "                      average='weighted')\n",
        "f1 = f1_score(target_test,\n",
        "              test_predictions,\n",
        "              average='weighted')\n",
        "\n",
        "print(\"Recall on test:\", recall)\n",
        "print(\"F1 score on test:\", f1)\n",
        "print(classification_report(target_test, test_predictions))"
      ]
    },
    {
      "cell_type": "markdown",
      "id": "457fa9e7-e743-4f08-a47e-779f186069de",
      "metadata": {
        "id": "457fa9e7-e743-4f08-a47e-779f186069de"
      },
      "source": [
        "### 5. Вывод результатов и анализ модели"
      ]
    },
    {
      "cell_type": "markdown",
      "source": [
        "Важноссть каждого признака"
      ],
      "metadata": {
        "id": "exMvRAgI6j3V"
      },
      "id": "exMvRAgI6j3V"
    },
    {
      "cell_type": "code",
      "source": [
        "feature_importance = optuna_search.best_estimator_.feature_importances_\n",
        "feature_names = features_train.columns\n",
        "\n",
        "feature_importance_df = pd.DataFrame({'Feature': feature_names,\n",
        "                                      'Importance': feature_importance})\n",
        "feature_importance_df = feature_importance_df.sort_values(by='Importance',\n",
        "                                                          ascending=False)\n",
        "\n",
        "plt.figure(figsize=(8, 4))\n",
        "sns.barplot(data=feature_importance_df,\n",
        "            x='Importance',\n",
        "            y='Feature')\n",
        "plt.title('Feature Importance')\n",
        "plt.show()"
      ],
      "metadata": {
        "id": "QL-jQUb-cbwD",
        "colab": {
          "base_uri": "https://localhost:8080/",
          "height": 410
        },
        "outputId": "c11498ff-5a80-46c7-dd5d-db085bcc110f"
      },
      "id": "QL-jQUb-cbwD",
      "execution_count": null,
      "outputs": [
        {
          "output_type": "display_data",
          "data": {
            "text/plain": [
              "<Figure size 800x400 with 1 Axes>"
            ],
            "image/png": "[encoded data removed]"
          },
          "metadata": {}
        }
      ]
    },
    {
      "cell_type": "code",
      "execution_count": null,
      "id": "1089cfb5-41a4-4ffd-ac8e-04332c5591ac",
      "metadata": {
        "id": "1089cfb5-41a4-4ffd-ac8e-04332c5591ac",
        "outputId": "c09afb96-4572-4596-9fae-50910906a682",
        "colab": {
          "base_uri": "https://localhost:8080/"
        }
      },
      "outputs": [
        {
          "output_type": "stream",
          "name": "stdout",
          "text": [
            "Recall on test: 0.8457446808510638\n",
            "F1 score on test: 0.8460189663001794\n",
            "              precision    recall  f1-score   support\n",
            "\n",
            "           0       0.86      0.83      0.84        75\n",
            "           1       0.79      0.83      0.81        64\n",
            "           2       0.90      0.90      0.90        49\n",
            "\n",
            "    accuracy                           0.85       188\n",
            "   macro avg       0.85      0.85      0.85       188\n",
            "weighted avg       0.85      0.85      0.85       188\n",
            "\n"
          ]
        }
      ],
      "source": [
        "print(\"Recall on test:\", recall)\n",
        "print(\"F1 score on test:\", f1)\n",
        "print(classification_report(target_test, test_predictions))"
      ]
    },
    {
      "cell_type": "markdown",
      "id": "dc6ecdba-ee59-4a64-88cb-e61fd141dfbc",
      "metadata": {
        "id": "dc6ecdba-ee59-4a64-88cb-e61fd141dfbc"
      },
      "source": [
        "Матрица ошибок на тренировочном и на тестовом наборе данных"
      ]
    },
    {
      "cell_type": "code",
      "execution_count": null,
      "id": "45552637-0d62-4c81-b4e4-7504c990161f",
      "metadata": {
        "id": "45552637-0d62-4c81-b4e4-7504c990161f",
        "outputId": "25cd80cc-04c6-4c29-c6c8-add4b0409deb",
        "colab": {
          "base_uri": "https://localhost:8080/"
        }
      },
      "outputs": [
        {
          "output_type": "stream",
          "name": "stdout",
          "text": [
            "Confusion matrix on train:\n",
            "[[278  25   5]\n",
            " [  7 226  14]\n",
            " [  1   1 191]]\n",
            "----------------\n",
            "Confusion matrix on test:\n",
            "[[62 12  1]\n",
            " [ 7 53  4]\n",
            " [ 3  2 44]]\n"
          ]
        }
      ],
      "source": [
        "train_conf_matrix = confusion_matrix(target_train, optuna_search.predict(features_train))\n",
        "test_conf_matrix = confusion_matrix(target_test, test_predictions)\n",
        "\n",
        "print('Confusion matrix on train:')\n",
        "print(train_conf_matrix)\n",
        "\n",
        "print('----------------')\n",
        "\n",
        "print('Confusion matrix on test:')\n",
        "print(test_conf_matrix)"
      ]
    },
    {
      "cell_type": "markdown",
      "id": "51d95dd7-eed9-43dc-8675-8f1f2fbc22d6",
      "metadata": {
        "id": "51d95dd7-eed9-43dc-8675-8f1f2fbc22d6"
      },
      "source": [
        "Результат:\n",
        "- Recall на тестовом наборе данных составляет 0.8457446808510638. Это показывает, что модель корректно идентифицирует примерно 84.5% всех положительных случаев (истинно положительные) из общего числа реальных положительных случаев. Для нас это основная метрика так как для задачи выявления риска беременности важно минимизировать ложноотрицательные результаты, то есть случаи, когда модель не обнаруживает настоящий риск (false negatives).\n"
      ]
    },
    {
      "cell_type": "code",
      "execution_count": null,
      "id": "77de6e39-a111-4500-9906-7743850e2ec7",
      "metadata": {
        "id": "77de6e39-a111-4500-9906-7743850e2ec7"
      },
      "outputs": [],
      "source": []
    }
  ],
  "metadata": {
    "kernelspec": {
      "display_name": "Python 3 (ipykernel)",
      "language": "python",
      "name": "python3"
    },
    "language_info": {
      "codemirror_mode": {
        "name": "ipython",
        "version": 3
      },
      "file_extension": ".py",
      "mimetype": "text/x-python",
      "name": "python",
      "nbconvert_exporter": "python",
      "pygments_lexer": "ipython3",
      "version": "3.11.8"
    },
    "colab": {
      "provenance": [],
      "toc_visible": true
    }
  },
  "nbformat": 4,
  "nbformat_minor": 5
}